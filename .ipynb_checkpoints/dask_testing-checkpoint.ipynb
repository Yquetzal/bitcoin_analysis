{
 "cells": [
  {
   "cell_type": "code",
   "execution_count": null,
   "metadata": {},
   "outputs": [],
   "source": [
    "transactions.npartitions"
   ]
  },
  {
   "cell_type": "code",
   "execution_count": null,
   "metadata": {},
   "outputs": [],
   "source": [
    "transactions = transactions.repartition(freq='1D')"
   ]
  },
  {
   "cell_type": "code",
   "execution_count": null,
   "metadata": {},
   "outputs": [],
   "source": [
    "transactions = transactions.repartition(freq='7D')"
   ]
  },
  {
   "cell_type": "code",
   "execution_count": null,
   "metadata": {},
   "outputs": [],
   "source": [
    "transactions = add_prices(transactions)\n",
    "improvev_values(transactions)\n",
    "transactions=transactions.drop([\"PriceUSD\"],axis=1)\n",
    "\n"
   ]
  },
  {
   "cell_type": "code",
   "execution_count": null,
   "metadata": {},
   "outputs": [],
   "source": [
    "transactions['date'] = dd.to_datetime(transactions['timestamp'],unit='s')\n",
    "create_day_column(transactions)\n",
    "#add_prices(transactions)\n",
    "#transactions=transactions.drop([\"PriceUSD\"],axis=1)\n",
    "#improvev_values(transactions)"
   ]
  },
  {
   "cell_type": "code",
   "execution_count": null,
   "metadata": {},
   "outputs": [],
   "source": [
    "transactions=client.persist(transactions)"
   ]
  },
  {
   "cell_type": "code",
   "execution_count": null,
   "metadata": {},
   "outputs": [],
   "source": [
    "#transactions.to_parquet(\"/media/ssd2/bitcoinRemy/tr_actor2actor_Day\",partition_on=\"day\")"
   ]
  },
  {
   "cell_type": "markdown",
   "metadata": {},
   "source": [
    "## generate files by day"
   ]
  },
  {
   "cell_type": "code",
   "execution_count": null,
   "metadata": {},
   "outputs": [],
   "source": [
    "header=[\"timestamp\",\"sender\",\"receiver\",\"value\",\"value_Dol\"]\n",
    "f = lambda x: x.to_csv(\"/media/ssd2/bitcoinRemy/by_day/{}.csv\".format(x.name),float_format='%.2f',index=False,columns = header)\n",
    "transactions.groupby(transactions[\"date\"].dt.floor('d')).apply(f)"
   ]
  }
 ],
 "metadata": {
  "kernelspec": {
   "display_name": "Python 3",
   "language": "python",
   "name": "python3"
  },
  "language_info": {
   "codemirror_mode": {
    "name": "ipython",
    "version": 3
   },
   "file_extension": ".py",
   "mimetype": "text/x-python",
   "name": "python",
   "nbconvert_exporter": "python",
   "pygments_lexer": "ipython3",
   "version": "3.6.9"
  }
 },
 "nbformat": 4,
 "nbformat_minor": 2
}
