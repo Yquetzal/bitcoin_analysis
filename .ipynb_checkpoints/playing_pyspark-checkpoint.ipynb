{
 "cells": [
  {
   "cell_type": "code",
   "execution_count": 30,
   "metadata": {},
   "outputs": [],
   "source": [
    "import findspark\n",
    "findspark.init()\n",
    "\n",
    "import json\n",
    "import pyspark\n",
    "from pyspark.sql import SparkSession\n",
    "from pyspark.sql.functions import from_utc_timestamp, from_unixtime, to_date\n",
    "from pyspark import SparkContext\n",
    "from pyspark.sql.functions import year, month, dayofmonth\n",
    "from pyspark.sql.types import IntegerType,StructField,StructType, LongType\n",
    "from pyspark.sql.functions import col, when\n",
    "\n",
    "from pyspark.sql.functions import monotonically_increasing_id, coalesce, date_trunc\n",
    "import snap\n",
    "from os import path\n",
    "import glob"
   ]
  },
  {
   "cell_type": "code",
   "execution_count": 2,
   "metadata": {},
   "outputs": [],
   "source": [
    "spark = SparkSession \\\n",
    "    .builder \\\n",
    "    .config(\"spark.driver.memory\", \"100g\") \\\n",
    "    .config(\"spark.executor.memory\", \"100g\") \\\n",
    "    .config(\"spark.cores.max\", \"10\") \\\n",
    "    .getOrCreate()"
   ]
  },
  {
   "cell_type": "code",
   "execution_count": 3,
   "metadata": {},
   "outputs": [],
   "source": [
    "sc = spark.sparkContext"
   ]
  },
  {
   "cell_type": "code",
   "execution_count": 20,
   "metadata": {},
   "outputs": [
    {
     "name": "stdout",
     "output_type": "stream",
     "text": [
      "+------+------+\n",
      "|src_id|dst_id|\n",
      "+------+------+\n",
      "|  2432|  2433|\n",
      "| 10963| 10963|\n",
      "|  2494|  2991|\n",
      "|  2991|  2771|\n",
      "|  2771|  3387|\n",
      "|  3387|  2991|\n",
      "|  2991|  2991|\n",
      "|  2991|  3444|\n",
      "|     1|  2549|\n",
      "|  2549|  8501|\n",
      "|  8501|  2883|\n",
      "|  2883| 11019|\n",
      "|  4249|  9750|\n",
      "|  9750|  8913|\n",
      "|  9085|  3505|\n",
      "|  3505|  4873|\n",
      "|  6667|  5804|\n",
      "|  5804|  4573|\n",
      "|  7085|  7085|\n",
      "|  7085|  7085|\n",
      "+------+------+\n",
      "only showing top 20 rows\n",
      "\n"
     ]
    }
   ],
   "source": [
    "#spark.read.load(\"/media/ssd2/bitcoinRemy/to_2011/co_spending_id/\").show()\n",
    "spark.read.load(\"/media/ssd2/bitcoinRemy/to_2011/co_spending_id\").show()"
   ]
  },
  {
   "cell_type": "code",
   "execution_count": 4,
   "metadata": {},
   "outputs": [],
   "source": [
    "from bitcoin_utils import *"
   ]
  },
  {
   "cell_type": "code",
   "execution_count": 56,
   "metadata": {},
   "outputs": [],
   "source": [
    "def get_files_from_dir(a_dir,prefix=\"\",suffix=\"\"):\n",
    "    if path.isfile(a_dir):\n",
    "        return [a_dir]\n",
    "    files = glob.glob(a_dir + '/**/'+prefix+'*'+suffix, recursive=True)\n",
    "    return sorted(files)\n",
    "\n",
    "\n",
    "def replace_column(df_original,df_dict,output_file,key_original,key_dict,renaming_new_col=False,replace=False):\n",
    "    \"\"\"\n",
    "    replace column key_original in df df_original by column target_name of df_dict, renamed as new_name\n",
    "    \"\"\"\n",
    "    if isinstance(df_original,str):\n",
    "        df_original = spark.read.load(df_original)\n",
    "    if isinstance(df_dict,str):\n",
    "        df_dict = spark.read.load(df_dict)\n",
    "        \n",
    "    df_original=df_original.withColumnRenamed(key_original,\"key1\")\n",
    "    df_dict=df_dict.withColumnRenamed(key_dict,\"key2\")\n",
    "    joined = df_original.join(df_dict,df_original[\"key1\"] ==  df_dict[\"key2\"],how='left')\n",
    "    if replace:\n",
    "        joined = joined.drop(\"key1\")\n",
    "    else:\n",
    "        joined = joined.withColumnRenamed(\"key1\",key_original)\n",
    "    joined=joined.drop(\"key2\")\n",
    "    if renaming_new_col!=False:\n",
    "        joined=joined.withColumnRenamed(renaming_new_col[0],renaming_new_col[1])\n",
    "    joined.write.save(output_file)\n",
    "\n",
    "def _extract_in(x):\n",
    "    to_return=[]\n",
    "    inputs=json.loads(x.inputs)\n",
    "    if len(inputs)>1:\n",
    "        for i in range(len(inputs)-1):\n",
    "            ads1=inputs[i][2]\n",
    "            ads2=inputs[i+1][2]\n",
    "            if len(ads1)==1:\n",
    "                ads1=ads1[0]\n",
    "            else:\n",
    "                ads1=str(ads1)\n",
    "            if len(ads2)==1:\n",
    "                ads2=ads2[0]\n",
    "            else:\n",
    "                ads2=str(ads2)\n",
    "            to_return.append((ads1,ads2))\n",
    "        return(to_return)\n",
    "    return([])\n",
    "def _create_co_spending(current_dir,year=\"\",month=\"\"):\n",
    "    print(\"computing co_spending\")\n",
    "    lines = spark.read.load(\"/media/ssd2/bitcoinRemy/whole_dataset/\")\n",
    "    if year!=\"\":\n",
    "        lines = lines.filter(lines.year<=year).filter(lines.month<=month)\n",
    "    inputs = lines.select(\"inputs\")\n",
    "    to_write = inputs.rdd.flatMap(_extract_in).toDF([\"src\",\"dst\"])#.collect()#\n",
    "    return(to_write)\n",
    "    \n",
    "\n",
    "###create a list of unique addresses to have int IDs\n",
    "def _to_uniq_vals(row):\n",
    "    return [(row.src,),(row.dst,)]\n",
    "\n",
    "\n",
    "    \n",
    "    \n",
    "def _dfZipWithIndex (df, offset=1, colName=\"rowId\"):\n",
    "    '''\n",
    "        Enumerates dataframe rows is native order, like rdd.ZipWithIndex(), but on a dataframe \n",
    "        and preserves a schema\n",
    "\n",
    "        :param df: source dataframe\n",
    "        :param offset: adjustment to zipWithIndex()'s index\n",
    "        :param colName: name of the index column\n",
    "    '''\n",
    "\n",
    "    new_schema = StructType(\n",
    "                    [StructField(colName,LongType(),True)]        # new added field in front\n",
    "                    + df.schema.fields                            # previous schema\n",
    "                )\n",
    "\n",
    "    zipped_rdd = df.rdd.zipWithIndex()\n",
    "\n",
    "    new_rdd = zipped_rdd.map(lambda args: ([args[1] + offset] + list(args[0])))\n",
    "\n",
    "    return spark.createDataFrame(new_rdd, new_schema)\n",
    "\n",
    "def _create_ad2id(co_spending):\n",
    "    addresses =co_spending.rdd.flatMap(_to_uniq_vals).toDF([\"ad\"]).distinct()\n",
    "    ad2id = _dfZipWithIndex(addresses,colName=\"id\")       \n",
    "    return ad2id\n",
    "\n",
    "\n",
    "def _convert_co_spending_to_id(temp_dir,co_spending,ad2id,output_co_spending_file):\n",
    "    replace_column(co_spending,\n",
    "               ad2id,\n",
    "               temp_dir+\"/temp_co_spending\",\n",
    "               \"src\",\n",
    "               \"ad\",\n",
    "               (\"id\",\"src_id\"),\n",
    "               replace=True\n",
    "              )\n",
    "    replace_column(temp_dir+\"/temp_co_spending\",\n",
    "               ad2id,\n",
    "               output_co_spending_file,\n",
    "               \"dst\",\n",
    "               \"ad\",\n",
    "               (\"id\",\"dst_id\"),\n",
    "               replace=True\n",
    "              )\n",
    "    \n",
    "\n",
    "def _write_clusters(clusters,output_file,ID=True,ID2A=None):\n",
    "    output_file=open(output_file, \"w+\")\n",
    "    for i,CnCom in enumerate(clusters):\n",
    "        for nodeID in CnCom:\n",
    "            if ID:\n",
    "                to_write=str(nodeID)\n",
    "            else:\n",
    "                to_write=str(ID2A[nodeID])\n",
    "            output_file.write(to_write+\"\\t\"+str(i)+\"\\n\")\n",
    "    output_file.close()\n",
    "    \n",
    "def _compute_with_snap(co_spend_id,id2cl_file):\n",
    "    G0 = snap.LoadEdgeList(snap.TUNGraph, co_spend_id, 0,1)\n",
    "    print(\"Number of Nodes: %d\" % G0.GetNodes())\n",
    "    print(\"Number of edges: %d\" % G0.GetEdges())\n",
    "    Components = G0.GetSccs()\n",
    "    _write_clusters(Components,id2cl_file,True)\n",
    "\n",
    "    \n",
    "def _convert_clusters_from_id_to_addresses(ad2id,id2cl,output):\n",
    "    replace_column(ad2id,\n",
    "               id2cl,\n",
    "               output,\n",
    "               \"id\",\n",
    "               \"id\",\n",
    "               replace=True\n",
    "              ) \n",
    "def compute_clusters(current_dir,year=\"\",month=\"\"):\n",
    "    co_spending = _create_co_spending(current_dir,year,month)\n",
    "    co_spending.write.save(current_dir+\"/co_spending\")\n",
    "    \n",
    "    co_spending=spark.read.load(current_dir+\"/co_spending\")\n",
    "    ad2id = _create_ad2id(co_spending)\n",
    "    ad2id.write.save(current_dir+\"/ad2id\")\n",
    "    \n",
    "    _convert_co_spending_to_id(current_dir,current_dir+\"/co_spending\",current_dir+\"/ad2id\",current_dir+\"/co_spending_id\")\n",
    "    \n",
    "    co_spend_id=spark.read.load(current_dir+\"/co_spending_id\")\n",
    "    co_spend_id.coalesce(1).write.format(\"csv\").option(\"header\", \"false\").option(\"sep\",\" \").save(current_dir+\"/co_spend_id.csv\")\n",
    "    \n",
    "    co_spend_id_file = get_files_from_dir(current_dir+\"/co_spend_id.csv\",\"part\")[0]\n",
    "    \n",
    "    _compute_with_snap(co_spend_id_file,current_dir+\"/id2cl.ssv\")\n",
    "    spark.read.csv(current_dir+\"/id2cl.ssv\",sep=\"\\t\").toDF(\"id\",\"cl\").write.save(current_dir+\"/id2cl\")                    \n",
    "    _convert_clusters_from_id_to_addresses(current_dir+\"/ad2id\",current_dir+\"/id2cl\",current_dir+\"/ad2cl\")                   \n",
    "                     \n",
    "                \n",
    "          "
   ]
  },
  {
   "cell_type": "code",
   "execution_count": null,
   "metadata": {},
   "outputs": [],
   "source": [
    "def create_ad2identity(dir_temp,hints,ad2cl):\n",
    "    replace_column(hints,\n",
    "           ad2cl,\n",
    "           dir_temp+\"/cls2identities\",\n",
    "           \"adresse\",\n",
    "           \"ad\",\n",
    "           replace=False\n",
    "          )"
   ]
  },
  {
   "cell_type": "code",
   "execution_count": 55,
   "metadata": {},
   "outputs": [],
   "source": [
    "compute_clusters(\"/media/ssd2/bitcoinRemy/to_end\")#,year=2011,month=1)"
   ]
  },
  {
   "cell_type": "code",
   "execution_count": 11,
   "metadata": {},
   "outputs": [],
   "source": [
    "#lines = spark.read.csv(\"/media/ssd2/bitcoinRemy/matched/data_part1_matched/transactions_00250000_00259999.json\",sep=\"\\t\")\n",
    "#lines = spark.read.csv(\"/media/ssd2/bitcoinRemy/matched/*/*.json\",sep=\"\\t\")\n"
   ]
  },
  {
   "cell_type": "code",
   "execution_count": 104,
   "metadata": {},
   "outputs": [],
   "source": [
    "walletExplorer_hints = spark.read.csv(\"/media/DD2/labeledUsers/walletexplorer.csv\",header=True).drop(\"page\")\n",
    "#    .write.save(\"/media/ssd2/bitcoinRemy/ad2identity\")\n",
    "create_ad2identity(walletExplorer_hints,)"
   ]
  },
  {
   "cell_type": "code",
   "execution_count": null,
   "metadata": {},
   "outputs": [],
   "source": []
  },
  {
   "cell_type": "code",
   "execution_count": null,
   "metadata": {},
   "outputs": [],
   "source": [
    "# Convert files from the minimal format to parquet files\n",
    "def create_initial_files():\n",
    "    lines = spark.read.csv(\"/media/ssd2/bitcoinRemy/matched/*/*.json\",sep=\"\\t\").toDF(\"hash\",\"bloc\",\"timestamp\",\"fee\",\"inputs\",\"outputs\")\n",
    "    lines.withColumn(\"date\", to_date(from_unixtime(\"timestamp\"))) \\\n",
    "    .withColumn(\"year\", year(\"date\")).withColumn(\"month\", month(\"date\")).withColumn(\"day\", dayofmonth(\"date\"))\\\n",
    "    .write.partitionBy(\"year\", \"month\",\"day\").save(\"/media/ssd2/bitcoinRemy/whole_dataset\")"
   ]
  },
  {
   "cell_type": "code",
   "execution_count": 102,
   "metadata": {},
   "outputs": [],
   "source": []
  },
  {
   "cell_type": "code",
   "execution_count": null,
   "metadata": {},
   "outputs": [],
   "source": [
    "# Create files ad2ad\n",
    "createAd2Ad()"
   ]
  },
  {
   "cell_type": "code",
   "execution_count": 4,
   "metadata": {},
   "outputs": [],
   "source": []
  },
  {
   "cell_type": "code",
   "execution_count": null,
   "metadata": {},
   "outputs": [],
   "source": []
  },
  {
   "cell_type": "code",
   "execution_count": 5,
   "metadata": {},
   "outputs": [],
   "source": []
  },
  {
   "cell_type": "code",
   "execution_count": 90,
   "metadata": {},
   "outputs": [],
   "source": []
  },
  {
   "cell_type": "code",
   "execution_count": 77,
   "metadata": {},
   "outputs": [],
   "source": [
    "#lines.repartition(1000,\"timestamp\").write.bucketBy(1000, \"timestamp\").sortBy(\"timestamp\").saveAsTable(\"transactions_by_timestamp\")"
   ]
  },
  {
   "cell_type": "code",
   "execution_count": 6,
   "metadata": {},
   "outputs": [],
   "source": []
  },
  {
   "cell_type": "code",
   "execution_count": 144,
   "metadata": {},
   "outputs": [],
   "source": [
    "compute_clusters(\"/media/ssd2/bitcoinRemy/to_2021/\")"
   ]
  },
  {
   "cell_type": "code",
   "execution_count": 8,
   "metadata": {},
   "outputs": [],
   "source": []
  },
  {
   "cell_type": "code",
   "execution_count": 141,
   "metadata": {},
   "outputs": [],
   "source": []
  },
  {
   "cell_type": "code",
   "execution_count": 144,
   "metadata": {},
   "outputs": [],
   "source": []
  },
  {
   "cell_type": "code",
   "execution_count": 135,
   "metadata": {},
   "outputs": [],
   "source": []
  },
  {
   "cell_type": "code",
   "execution_count": 136,
   "metadata": {},
   "outputs": [
    {
     "data": {
      "text/plain": [
       "DataFrame[hash: string, bloc: string, timestamp: string, fee: string, inputs: string, outputs: string, date: date, year: int, month: int, day: int]"
      ]
     },
     "execution_count": 136,
     "metadata": {},
     "output_type": "execute_result"
    }
   ],
   "source": []
  },
  {
   "cell_type": "code",
   "execution_count": 148,
   "metadata": {},
   "outputs": [],
   "source": []
  },
  {
   "cell_type": "markdown",
   "metadata": {},
   "source": [
    "# create graph for snap"
   ]
  },
  {
   "cell_type": "code",
   "execution_count": 174,
   "metadata": {},
   "outputs": [],
   "source": []
  },
  {
   "cell_type": "code",
   "execution_count": 14,
   "metadata": {},
   "outputs": [],
   "source": []
  },
  {
   "cell_type": "code",
   "execution_count": 4,
   "metadata": {},
   "outputs": [],
   "source": []
  },
  {
   "cell_type": "code",
   "execution_count": 3,
   "metadata": {},
   "outputs": [],
   "source": []
  },
  {
   "cell_type": "code",
   "execution_count": 17,
   "metadata": {},
   "outputs": [],
   "source": []
  },
  {
   "cell_type": "code",
   "execution_count": null,
   "metadata": {},
   "outputs": [],
   "source": []
  },
  {
   "cell_type": "code",
   "execution_count": 4,
   "metadata": {},
   "outputs": [],
   "source": []
  },
  {
   "cell_type": "code",
   "execution_count": null,
   "metadata": {},
   "outputs": [],
   "source": []
  },
  {
   "cell_type": "code",
   "execution_count": 15,
   "metadata": {},
   "outputs": [],
   "source": [
    "#ad2id = ad2id.withColumn(\"id\", monotonically_increasing_id())\n"
   ]
  },
  {
   "cell_type": "code",
   "execution_count": 28,
   "metadata": {},
   "outputs": [],
   "source": [
    "#co_spending_test = co_spending.limit(100)"
   ]
  },
  {
   "cell_type": "code",
   "execution_count": null,
   "metadata": {},
   "outputs": [],
   "source": [
    "#spark.read.load(\"/media/ssd2/bitcoinRemy/all_addresses\").distinct().count()"
   ]
  },
  {
   "cell_type": "code",
   "execution_count": null,
   "metadata": {},
   "outputs": [],
   "source": [
    "### first join"
   ]
  },
  {
   "cell_type": "code",
   "execution_count": 10,
   "metadata": {},
   "outputs": [],
   "source": [
    "ad2id=spark.read.load(\"/media/ssd2/bitcoinRemy/ad2id\")"
   ]
  },
  {
   "cell_type": "code",
   "execution_count": null,
   "metadata": {},
   "outputs": [],
   "source": []
  },
  {
   "cell_type": "code",
   "execution_count": null,
   "metadata": {},
   "outputs": [],
   "source": [
    "co_spending=spark.read.load(\"/media/ssd2/bitcoinRemy/co_spending__\")"
   ]
  },
  {
   "cell_type": "code",
   "execution_count": 15,
   "metadata": {},
   "outputs": [],
   "source": [
    "co_spending_joined = co_spending.join(ad2id.alias(\"b\"),co_spending.src ==  ad2id.ad,how='left')"
   ]
  },
  {
   "cell_type": "code",
   "execution_count": 16,
   "metadata": {},
   "outputs": [],
   "source": [
    "co_spending_joined.select([\"dst\",\"id\"]).withColumnRenamed(\"id\",\"id2\").write.save(\"/media/ssd2/bitcoinRemy/co_spend_temp\")"
   ]
  },
  {
   "cell_type": "code",
   "execution_count": 17,
   "metadata": {},
   "outputs": [],
   "source": [
    "### second join"
   ]
  },
  {
   "cell_type": "code",
   "execution_count": 18,
   "metadata": {},
   "outputs": [],
   "source": [
    "co_spending_joined=spark.read.load(\"/media/ssd2/bitcoinRemy/co_spend_temp\")"
   ]
  },
  {
   "cell_type": "code",
   "execution_count": null,
   "metadata": {},
   "outputs": [],
   "source": []
  },
  {
   "cell_type": "code",
   "execution_count": 19,
   "metadata": {},
   "outputs": [],
   "source": [
    "co_spending_joined2 = co_spending_joined.join(ad2id.alias(\"c\"),co_spending_joined.dst ==  ad2id.ad,how='left')"
   ]
  },
  {
   "cell_type": "code",
   "execution_count": 20,
   "metadata": {},
   "outputs": [],
   "source": [
    "co_spending_joined2.select([\"id\",\"id2\"]).write.save(\"/media/ssd2/bitcoinRemy/co_spend_id\")"
   ]
  },
  {
   "cell_type": "code",
   "execution_count": 21,
   "metadata": {},
   "outputs": [],
   "source": [
    "co_spending_joined2=spark.read.load(\"/media/ssd2/bitcoinRemy/co_spend_id\")\n",
    "co_spending_joined2.coalesce(1)\\\n",
    "   .write.format(\"csv\")\\\n",
    "   .option(\"header\", \"false\").option(\"sep\",\" \")\\\n",
    "   .save(\"/media/ssd2/bitcoinRemy/co_spend_id.csv\")"
   ]
  },
  {
   "cell_type": "code",
   "execution_count": null,
   "metadata": {},
   "outputs": [],
   "source": []
  },
  {
   "cell_type": "code",
   "execution_count": 22,
   "metadata": {},
   "outputs": [],
   "source": [
    "#test =spark.read.load(\"/media/ssd2/bitcoinRemy/co_spend_id\").toDF(\"src\",\"dst\")"
   ]
  },
  {
   "cell_type": "code",
   "execution_count": 23,
   "metadata": {},
   "outputs": [],
   "source": [
    "#test2=test.rdd.flatMap(to_uniq_vals).toDF([\"ad\"])"
   ]
  },
  {
   "cell_type": "code",
   "execution_count": 24,
   "metadata": {},
   "outputs": [],
   "source": [
    "#test2.distinct().count()"
   ]
  },
  {
   "cell_type": "code",
   "execution_count": 25,
   "metadata": {},
   "outputs": [],
   "source": [
    "#co_spending_joined = co_spending_joined.join(ad2id.alias(\"c\"),co_spending_test.src ==  ad2id.ad,how='left')"
   ]
  },
  {
   "cell_type": "code",
   "execution_count": 26,
   "metadata": {},
   "outputs": [],
   "source": [
    "#test = co_spending_joined.select(col(\"b.id\").alias(\"id1\"),col(\"c.id\").alias(\"id2\"))"
   ]
  },
  {
   "cell_type": "code",
   "execution_count": 27,
   "metadata": {},
   "outputs": [],
   "source": [
    "#co_spending = co_spending.join(ad2id,co_spending.ad ===  ad2id.ad,how='left')\n",
    "#co_spending.select(\"src_id\",\"dst_id\").write.save(\"/media/ssd2/bitcoinRemy/co_spending_id\")"
   ]
  },
  {
   "cell_type": "markdown",
   "metadata": {},
   "source": [
    "### compute with snap"
   ]
  },
  {
   "cell_type": "code",
   "execution_count": 30,
   "metadata": {},
   "outputs": [],
   "source": [
    "G0 = snap.LoadEdgeList(snap.TUNGraph, \"/media/ssd2/bitcoinRemy/co_spend_id.csv/part-00000-85d18c15-3539-47f7-b5a1-006aa011b3f2-c000.csv\", 0,1)"
   ]
  },
  {
   "cell_type": "code",
   "execution_count": 31,
   "metadata": {},
   "outputs": [
    {
     "name": "stdout",
     "output_type": "stream",
     "text": [
      "Number of Nodes: 483216193\n",
      "Number of edges: 644216163\n"
     ]
    }
   ],
   "source": []
  },
  {
   "cell_type": "code",
   "execution_count": 32,
   "metadata": {},
   "outputs": [],
   "source": []
  },
  {
   "cell_type": "markdown",
   "metadata": {},
   "source": [
    "### Write clusters"
   ]
  },
  {
   "cell_type": "code",
   "execution_count": 123,
   "metadata": {},
   "outputs": [],
   "source": []
  },
  {
   "cell_type": "code",
   "execution_count": 126,
   "metadata": {},
   "outputs": [],
   "source": []
  },
  {
   "cell_type": "code",
   "execution_count": 128,
   "metadata": {},
   "outputs": [],
   "source": []
  },
  {
   "cell_type": "markdown",
   "metadata": {},
   "source": []
  },
  {
   "cell_type": "code",
   "execution_count": null,
   "metadata": {},
   "outputs": [],
   "source": []
  },
  {
   "cell_type": "code",
   "execution_count": 166,
   "metadata": {},
   "outputs": [],
   "source": []
  },
  {
   "cell_type": "code",
   "execution_count": 132,
   "metadata": {},
   "outputs": [],
   "source": [
    "#id2cl=spark.read.csv(\"/media/ssd2/bitcoinRemy/id2cl\",sep=\"\\t\").toDF(\"id_n\",\"cl\")\n",
    "#df = id2cl.join(ad2id,id2cl.id_n ==  ad2id.id_u,how='left')\n",
    "#df.select([\"ad\",\"cl\"]).write.save(\"/media/ssd2/bitcoinRemy/ad2cl\")\n",
    "replace_column(\"/media/ssd2/bitcoinRemy/to_2021/ad2id\",\n",
    "               \"/media/ssd2/bitcoinRemy/to_2021/id2cl\",\n",
    "               \"/media/ssd2/bitcoinRemy/to_2021/ad2cl\",\n",
    "               \"id\",\n",
    "               \"id\",\n",
    "               \"cl\",\n",
    "               replace=True\n",
    "              )"
   ]
  },
  {
   "cell_type": "code",
   "execution_count": null,
   "metadata": {},
   "outputs": [],
   "source": []
  },
  {
   "cell_type": "code",
   "execution_count": null,
   "metadata": {},
   "outputs": [],
   "source": [
    "### create the cl2cl file ?"
   ]
  },
  {
   "cell_type": "code",
   "execution_count": null,
   "metadata": {
    "scrolled": true
   },
   "outputs": [],
   "source": []
  },
  {
   "cell_type": "markdown",
   "metadata": {},
   "source": [
    "### Create the cl2identity file"
   ]
  },
  {
   "cell_type": "code",
   "execution_count": 60,
   "metadata": {},
   "outputs": [],
   "source": [
    "#spark.read.csv(\"/media/DD2/labeledUsers/walletexplorer.csv\",header=True)\\\n",
    "#    .drop(\"page\")\\\n",
    "#    .write.save(\"/media/ssd2/bitcoinRemy/ad2identity\")"
   ]
  },
  {
   "cell_type": "code",
   "execution_count": 145,
   "metadata": {},
   "outputs": [],
   "source": []
  },
  {
   "cell_type": "code",
   "execution_count": 146,
   "metadata": {},
   "outputs": [],
   "source": [
    "spark.read.load(\"/media/ssd2/bitcoinRemy/to_2021/cls2identities\")\\\n",
    "    .na.drop().dropDuplicates([\"service\"]).sort(\"service\").drop(\"adresse\").withColumnRenamed(\"service\",\"identity\")\\\n",
    "    .write.save(\"/media/ssd2/bitcoinRemy/to_2021/cl2idenity\")\n",
    "\n"
   ]
  },
  {
   "cell_type": "markdown",
   "metadata": {},
   "source": [
    "### create ad2identity"
   ]
  },
  {
   "cell_type": "code",
   "execution_count": 168,
   "metadata": {},
   "outputs": [],
   "source": [
    "replace_column(\"/media/ssd2/bitcoinRemy/to_2021/ad2cl\",\n",
    "               \"/media/ssd2/bitcoinRemy/to_2021/cl2idenity\",\n",
    "               \"/media/ssd2/bitcoinRemy/to_2021/ad2identity_temp\",\n",
    "               \"cl\",\n",
    "               \"cl\",\n",
    "               replace=False\n",
    "              )"
   ]
  },
  {
   "cell_type": "code",
   "execution_count": 181,
   "metadata": {},
   "outputs": [],
   "source": [
    "coalescing = spark.read.load(\"/media/ssd2/bitcoinRemy/to_2021/ad2identity_temp\")\n",
    "coalescing =coalescing.withColumn(\"identity\",coalesce(coalescing.identity,coalescing.cl)) \n",
    "coalescing.drop(\"cl\").write.save(current_dir+\"ad2identity\")"
   ]
  },
  {
   "cell_type": "code",
   "execution_count": null,
   "metadata": {},
   "outputs": [],
   "source": []
  },
  {
   "cell_type": "markdown",
   "metadata": {},
   "source": [
    "### create cl2cl"
   ]
  },
  {
   "cell_type": "code",
   "execution_count": 178,
   "metadata": {},
   "outputs": [],
   "source": [
    "replace_column(\"/media/ssd2/bitcoinRemy/to_2021/tr_ad2ad\",\n",
    "               \"/media/ssd2/bitcoinRemy/to_2021/ad2identity\",\n",
    "               \"/media/ssd2/bitcoinRemy/to_2021/cl2cl_temp\",\n",
    "               \"src\",\n",
    "               \"ad\",\n",
    "               (\"identity\",\"src_identity\"),\n",
    "               replace=False\n",
    "              )"
   ]
  },
  {
   "cell_type": "code",
   "execution_count": 182,
   "metadata": {},
   "outputs": [],
   "source": [
    "replace_column(\"/media/ssd2/bitcoinRemy/to_2021/cl2cl_temp\",\n",
    "               \"/media/ssd2/bitcoinRemy/to_2021/ad2identity\",\n",
    "               \"/media/ssd2/bitcoinRemy/to_2021/cl2cl\",\n",
    "               \"dst\",\n",
    "               \"ad\",\n",
    "               (\"identity\",\"dst_identity\"),\n",
    "               replace=False\n",
    "              )"
   ]
  },
  {
   "cell_type": "code",
   "execution_count": 184,
   "metadata": {},
   "outputs": [],
   "source": [
    "coalescing = spark.read.load(\"/media/ssd2/bitcoinRemy/to_2021/cl2cl_detailed\")\n",
    "coalescing =coalescing.withColumn(\"src_identity\",coalesce(coalescing.src_identity,coalescing.src)) \n",
    "coalescing =coalescing.withColumn(\"dst_identity\",coalesce(coalescing.dst_identity,coalescing.dst)) \n",
    "coalescing.drop(\"src\").drop(\"dst\").drop(\"cl\").write.save(current_dir+\"cl2cl\")"
   ]
  },
  {
   "cell_type": "code",
   "execution_count": 185,
   "metadata": {},
   "outputs": [
    {
     "name": "stdout",
     "output_type": "stream",
     "text": [
      "+---------+----------+--------------------+--------------------+\n",
      "|    value|      time|        src_identity|        dst_identity|\n",
      "+---------+----------+--------------------+--------------------+\n",
      "|  1994582|1494969173|39JYTisRzC8m8CFtu...|             6042538|\n",
      "|222078315|1520174706|            69460615|35QFbAGF3hjWEEAkN...|\n",
      "|   682430|1603581836|1EhxPSn1LgXCjRwEj...|35QFga7ogoFRqSPYq...|\n",
      "|   690300|1603341168|bc1q4vsqfj96e9jku...|35QFga7ogoFRqSPYq...|\n",
      "|200117191|1601202621|3Q9hKECtkE7yWBsFi...|35QFgmDGxeaHTq4B2...|\n",
      "|   589405|1568842803|            24327129|                 500|\n",
      "|   980926|1549062281|                 682|                 682|\n",
      "| 13456692|1536258642|3PY3rEtGCeXCeY4i7...|35QG4R9MK6tBGHdvV...|\n",
      "|  1530000|1469663070|            60793105|                 817|\n",
      "| 29118471|1541694641|3EJTgXC4T6zmKpREx...|35QG6tnatN1CU7tnf...|\n",
      "|  1612733|1513957200|1HvuJVXqGNqaXmYyd...|             3324535|\n",
      "| 17635964|1513649725|17VNNNNny2HP9E13T...|             3324535|\n",
      "|  2950000|1609980311|         Bittrex.com|                  50|\n",
      "|  3793000|1604785029|3HGS2GzSr7VWGDCh9...|            45502048|\n",
      "|    16520|1590737827|bc1qfzq62dgayw5dx...|            58362080|\n",
      "| 41046951|1542187270|38fjkiwykfiTqPHgS...|35QGMwxGc4wFssuUU...|\n",
      "| 16292872|1592239714|3FejiPiedcYdETzk7...|35QGNk4R858XY2W9s...|\n",
      "| 12689750|1487862443|38TTsZvzqzu48BCip...|            17786127|\n",
      "| 12647035|1595647693|bc1qcg3tyt8x4usde...|            33511570|\n",
      "|200000000|1582511601|17oA6X9b1WNxMmXDs...|            73054614|\n",
      "+---------+----------+--------------------+--------------------+\n",
      "only showing top 20 rows\n",
      "\n"
     ]
    }
   ],
   "source": [
    "spark.read.load(\"/media/ssd2/bitcoinRemy/to_2021/cl2cl\").show()"
   ]
  },
  {
   "cell_type": "code",
   "execution_count": null,
   "metadata": {},
   "outputs": [],
   "source": []
  },
  {
   "cell_type": "code",
   "execution_count": 192,
   "metadata": {},
   "outputs": [],
   "source": [
    "dates =spark.read.csv(\"/media/ssd2/bitcoinRemy/btc_prices.csv\",sep=\",\",header=True)"
   ]
  },
  {
   "cell_type": "code",
   "execution_count": 200,
   "metadata": {},
   "outputs": [
    {
     "name": "stdout",
     "output_type": "stream",
     "text": [
      "+----------+--------+\n",
      "|      date|PriceUSD|\n",
      "+----------+--------+\n",
      "|2009-01-03|    null|\n",
      "|2009-01-04|    null|\n",
      "|2009-01-05|    null|\n",
      "|2009-01-06|    null|\n",
      "|2009-01-07|    null|\n",
      "|2009-01-08|    null|\n",
      "|2009-01-09|    null|\n",
      "|2009-01-10|    null|\n",
      "|2009-01-11|    null|\n",
      "|2009-01-12|    null|\n",
      "|2009-01-13|    null|\n",
      "|2009-01-14|    null|\n",
      "|2009-01-15|    null|\n",
      "|2009-01-16|    null|\n",
      "|2009-01-17|    null|\n",
      "|2009-01-18|    null|\n",
      "|2009-01-19|    null|\n",
      "|2009-01-20|    null|\n",
      "|2009-01-21|    null|\n",
      "|2009-01-22|    null|\n",
      "+----------+--------+\n",
      "only showing top 20 rows\n",
      "\n"
     ]
    }
   ],
   "source": [
    "dates.select([\"date\",\"PriceUSD\"]).show()"
   ]
  },
  {
   "cell_type": "code",
   "execution_count": 211,
   "metadata": {},
   "outputs": [],
   "source": [
    "test = spark.read.load(\"/media/ssd2/bitcoinRemy/to_2021/cl2cl\").limit(100)"
   ]
  },
  {
   "cell_type": "code",
   "execution_count": 213,
   "metadata": {},
   "outputs": [
    {
     "name": "stdout",
     "output_type": "stream",
     "text": [
      "+-------------------------------------------------------------+\n",
      "|date_trunc(Day, to_date(from_unixtime(`time`, 'yyyy-MM-dd')))|\n",
      "+-------------------------------------------------------------+\n",
      "|                                          2017-05-16 00:00:00|\n",
      "|                                          2018-03-04 00:00:00|\n",
      "|                                          2020-10-25 00:00:00|\n",
      "|                                          2020-10-22 00:00:00|\n",
      "|                                          2020-09-27 00:00:00|\n",
      "|                                          2019-09-18 00:00:00|\n",
      "|                                          2019-02-02 00:00:00|\n",
      "|                                          2018-09-06 00:00:00|\n",
      "|                                          2016-07-28 00:00:00|\n",
      "|                                          2018-11-08 00:00:00|\n",
      "|                                          2017-12-22 00:00:00|\n",
      "|                                          2017-12-19 00:00:00|\n",
      "|                                          2021-01-07 00:00:00|\n",
      "|                                          2020-11-07 00:00:00|\n",
      "|                                          2020-05-29 00:00:00|\n",
      "|                                          2018-11-14 00:00:00|\n",
      "|                                          2020-06-15 00:00:00|\n",
      "|                                          2017-02-23 00:00:00|\n",
      "|                                          2020-07-25 00:00:00|\n",
      "|                                          2020-02-24 00:00:00|\n",
      "+-------------------------------------------------------------+\n",
      "only showing top 20 rows\n",
      "\n"
     ]
    }
   ],
   "source": [
    "test.select(date_trunc(\"Day\",to_date(from_unixtime(\"time\",\"yyyy-MM-dd\")))).show()"
   ]
  },
  {
   "cell_type": "code",
   "execution_count": 215,
   "metadata": {},
   "outputs": [
    {
     "name": "stdout",
     "output_type": "stream",
     "text": [
      "+---------+----------+--------------------+--------------------+----------+\n",
      "|    value|      time|        src_identity|        dst_identity|      date|\n",
      "+---------+----------+--------------------+--------------------+----------+\n",
      "|  1994582|1494969173|39JYTisRzC8m8CFtu...|             6042538|2017-05-16|\n",
      "|222078315|1520174706|            69460615|35QFbAGF3hjWEEAkN...|2018-03-04|\n",
      "|   682430|1603581836|1EhxPSn1LgXCjRwEj...|35QFga7ogoFRqSPYq...|2020-10-25|\n",
      "|   690300|1603341168|bc1q4vsqfj96e9jku...|35QFga7ogoFRqSPYq...|2020-10-22|\n",
      "|200117191|1601202621|3Q9hKECtkE7yWBsFi...|35QFgmDGxeaHTq4B2...|2020-09-27|\n",
      "|   589405|1568842803|            24327129|                 500|2019-09-18|\n",
      "|   980926|1549062281|                 682|                 682|2019-02-02|\n",
      "| 13456692|1536258642|3PY3rEtGCeXCeY4i7...|35QG4R9MK6tBGHdvV...|2018-09-06|\n",
      "|  1530000|1469663070|            60793105|                 817|2016-07-28|\n",
      "| 29118471|1541694641|3EJTgXC4T6zmKpREx...|35QG6tnatN1CU7tnf...|2018-11-08|\n",
      "|  1612733|1513957200|1HvuJVXqGNqaXmYyd...|             3324535|2017-12-22|\n",
      "| 17635964|1513649725|17VNNNNny2HP9E13T...|             3324535|2017-12-19|\n",
      "|  2950000|1609980311|         Bittrex.com|                  50|2021-01-07|\n",
      "|  3793000|1604785029|3HGS2GzSr7VWGDCh9...|            45502048|2020-11-07|\n",
      "|    16520|1590737827|bc1qfzq62dgayw5dx...|            58362080|2020-05-29|\n",
      "| 41046951|1542187270|38fjkiwykfiTqPHgS...|35QGMwxGc4wFssuUU...|2018-11-14|\n",
      "| 16292872|1592239714|3FejiPiedcYdETzk7...|35QGNk4R858XY2W9s...|2020-06-15|\n",
      "| 12689750|1487862443|38TTsZvzqzu48BCip...|            17786127|2017-02-23|\n",
      "| 12647035|1595647693|bc1qcg3tyt8x4usde...|            33511570|2020-07-25|\n",
      "|200000000|1582511601|17oA6X9b1WNxMmXDs...|            73054614|2020-02-24|\n",
      "+---------+----------+--------------------+--------------------+----------+\n",
      "only showing top 20 rows\n",
      "\n"
     ]
    }
   ],
   "source": [
    "test.withColumn(\"date\",from_unixtime(\"time\",\"yyyy-MM-dd\")).show()"
   ]
  },
  {
   "cell_type": "code",
   "execution_count": 216,
   "metadata": {},
   "outputs": [],
   "source": [
    "replace_column(spark.read.load(\"/media/ssd2/bitcoinRemy/to_2021/cl2cl\").withColumn(\"date\",from_unixtime(\"time\",\"yyyy-MM-dd\")),\n",
    "               spark.read.csv(\"/media/ssd2/bitcoinRemy/btc_prices.csv\",sep=\",\",header=True).select([\"date\",\"PriceUSD\"]),\n",
    "               \"/media/ssd2/bitcoinRemy/to_2021/cl2cl_price\",\n",
    "               \"date\",\n",
    "               \"date\",\n",
    "               replace=False\n",
    "              )"
   ]
  },
  {
   "cell_type": "code",
   "execution_count": 217,
   "metadata": {},
   "outputs": [
    {
     "name": "stdout",
     "output_type": "stream",
     "text": [
      "+--------+----------+--------------------+------------+----------+----------------+\n",
      "|   value|      time|        src_identity|dst_identity|      date|        PriceUSD|\n",
      "+--------+----------+--------------------+------------+----------+----------------+\n",
      "| 6978720|1483956499|               16380|       16380|2017-01-09|903.508666803039|\n",
      "|26476520|1484583610|               16380|       16380|2017-01-16|830.838035067212|\n",
      "| 3380704|1485595749|3CvaaQVhPxajAFYxQ...|       16380|2017-01-28|922.774948568089|\n",
      "|37473008|1485605195|3CvaaQVhPxajAFYxQ...|       16380|2017-01-28|922.774948568089|\n",
      "| 9492345|1485999286|3Do32f6fxJgkfYPiY...|       16380|2017-02-02| 1007.7043659848|\n",
      "|58047903|1485935679|3FfSD5HuLJi7t2ZvP...|       16380|2017-02-01|987.532590414962|\n",
      "|34874467|1484068913|3FqJGUsVHWh2Taiv5...|       16380|2017-01-10|906.498947399182|\n",
      "|10396387|1484075961|3FqJGUsVHWh2Taiv5...|       16380|2017-01-10|906.498947399182|\n",
      "|10400146|1484083659|3FqJGUsVHWh2Taiv5...|       16380|2017-01-10|906.498947399182|\n",
      "|15157364|1484378675|3FqJGUsVHWh2Taiv5...|       16380|2017-01-14|820.045157276447|\n",
      "| 3749456|1484382475|3FqJGUsVHWh2Taiv5...|       16380|2017-01-14|820.045157276447|\n",
      "|11359081|1484386314|3FqJGUsVHWh2Taiv5...|       16380|2017-01-14|820.045157276447|\n",
      "|71779053|1484390521|3FqJGUsVHWh2Taiv5...|       16380|2017-01-14|820.045157276447|\n",
      "| 3721003|1484394476|3FqJGUsVHWh2Taiv5...|       16380|2017-01-14|820.045157276447|\n",
      "|11283835|1484398434|3FqJGUsVHWh2Taiv5...|       16380|2017-01-14|820.045157276447|\n",
      "| 3690084|1484402092|3FqJGUsVHWh2Taiv5...|       16380|2017-01-14|820.045157276447|\n",
      "|18690420|1484405919|3FqJGUsVHWh2Taiv5...|       16380|2017-01-14|820.045157276447|\n",
      "| 7556605|1484409361|3FqJGUsVHWh2Taiv5...|       16380|2017-01-14|820.045157276447|\n",
      "| 7485335|1484413844|3FqJGUsVHWh2Taiv5...|       16380|2017-01-14|820.045157276447|\n",
      "| 6876027|1485231752|3FqJGUsVHWh2Taiv5...|       16380|2017-01-24|887.743193804792|\n",
      "+--------+----------+--------------------+------------+----------+----------------+\n",
      "only showing top 20 rows\n",
      "\n"
     ]
    }
   ],
   "source": [
    "spark.read.load(\"/media/ssd2/bitcoinRemy/to_2021/cl2cl_price\").show()"
   ]
  },
  {
   "cell_type": "code",
   "execution_count": 4,
   "metadata": {},
   "outputs": [],
   "source": [
    "spark.read.load(\"/media/ssd2/bitcoinRemy/to_2021/cl2cl_price\").withColumn(\"year\", year(\"date\")).withColumn(\"month\", month(\"date\")).withColumn(\"day\", dayofmonth(\"date\"))\\\n",
    "    .repartition(\"year\", \"month\",\"day\").drop(\"date\").write.partitionBy(\"year\", \"month\",\"day\").save(\"/media/ssd2/bitcoinRemy/to_2021/time_split\")"
   ]
  },
  {
   "cell_type": "code",
   "execution_count": 219,
   "metadata": {},
   "outputs": [
    {
     "name": "stdout",
     "output_type": "stream",
     "text": [
      "+----------+----------+--------------------+--------------------+----------+----------------+----+-----+---+\n",
      "|     value|      time|        src_identity|        dst_identity|      date|        PriceUSD|year|month|day|\n",
      "+----------+----------+--------------------+--------------------+----------+----------------+----+-----+---+\n",
      "|  18940000|1436324273|18myXyFoz9mZmEyfY...|1DPebXtSMsZ2Hz7oH...|2015-07-08|270.576142898889|2015|    7|  8|\n",
      "|   2162766|1436359326|3K3vFvt6ogZoCdUWo...|              876777|2015-07-08|270.576142898889|2015|    7|  8|\n",
      "| 108657180|1436344489|12fb47BVWMuZnSXxG...|1DQNxkjhoet9LHfbC...|2015-07-08|270.576142898889|2015|    7|  8|\n",
      "| 428472233|1436383322|            68955964|        Bitstamp.net|2015-07-08|270.576142898889|2015|    7|  8|\n",
      "|    116000|1436389427|13Z6QL2hzDJW7xn5N...|1DRFPc67dKAjsYxPN...|2015-07-08|270.576142898889|2015|    7|  8|\n",
      "|       546|1436320713|3FJnkvu2wPbRFkdxH...|3AFnL1Vj5qtSH63S2...|2015-07-08|270.576142898889|2015|    7|  8|\n",
      "|  38132000|1436342723|1PHkXVTbVib67mDuq...|1DRRjLz2UQDVERQfo...|2015-07-08|270.576142898889|2015|    7|  8|\n",
      "|     44431|1436389427|       FaucetBOX.com|            Xapo.com|2015-07-08|270.576142898889|2015|    7|  8|\n",
      "|  91980000|1436378901|1NNNG5SL4MbJuZv6T...|1DSDUp9rtvz1RkSp2...|2015-07-08|270.576142898889|2015|    7|  8|\n",
      "|    110893|1436388348|       FaucetBOX.com|            Xapo.com|2015-07-08|270.576142898889|2015|    7|  8|\n",
      "|     44335|1436384198|  Genesis-Mining.com|             7630132|2015-07-08|270.576142898889|2015|    7|  8|\n",
      "|      2625|1436352043|             2533482|            Xapo.com|2015-07-08|270.576142898889|2015|    7|  8|\n",
      "|   2371705|1436374212|            72442532|            72442532|2015-07-08|270.576142898889|2015|    7|  8|\n",
      "|      6782|1436352043|             2533482|            70956657|2015-07-08|270.576142898889|2015|    7|  8|\n",
      "|     19521|1436388348|14WR5GwLDC9J3dHs3...|            12739945|2015-07-08|270.576142898889|2015|    7|  8|\n",
      "| 157616296|1436375781|              203097|3Ck1SfWRZ3WjmZ552...|2015-07-08|270.576142898889|2015|    7|  8|\n",
      "|  63184491|1436357480|1M8aMAcZuREJ3N6K9...|            43506912|2015-07-08|270.576142898889|2015|    7|  8|\n",
      "|     50000|1436377472|3Ck1SfWRZ3WjmZ552...|3Ck1SfWRZ3WjmZ552...|2015-07-08|270.576142898889|2015|    7|  8|\n",
      "|1168034284|1436331927|          AnxPro.com|1DWLPKdGHYfsHuUYM...|2015-07-08|270.576142898889|2015|    7|  8|\n",
      "| 843025902|1436362261|3CHRzs8Ra4AgeFZW4...|            57550712|2015-07-08|270.576142898889|2015|    7|  8|\n",
      "+----------+----------+--------------------+--------------------+----------+----------------+----+-----+---+\n",
      "only showing top 20 rows\n",
      "\n"
     ]
    }
   ],
   "source": [
    "spark.read.load(\"/media/ssd2/bitcoinRemy/to_2021/time_split_save/\").show()"
   ]
  },
  {
   "cell_type": "code",
   "execution_count": null,
   "metadata": {},
   "outputs": [],
   "source": []
  },
  {
   "cell_type": "code",
   "execution_count": null,
   "metadata": {},
   "outputs": [],
   "source": [
    "from graphframes import *\n",
    "sc.setCheckpointDir(\"/media/ssd2/tmp\")\n",
    "def create_co_spending(output_file,year=\"\",month=\"\"):\n",
    "    #lines = spark.read.csv(\"/media/ssd2/bitcoinRemy/matched/data_part1_matched/transactions_00250000_00259999.json\",sep=\"\\t\")\n",
    "    #lines = spark.read.csv(\"/media/ssd2/bitcoinRemy/matched/*/*.json\",sep=\"\\t\")\n",
    "    print(\"computing co_spending\")\n",
    "    lines = spark.read.load(\"/media/ssd2/bitcoinRemy/whole_dataset/\")\n",
    "    if year!=\"\":\n",
    "        lines = lines.filter(lines.year<=year).filter(lines.month<=month)\n",
    "    inputs = lines.select(\"inputs\")\n",
    "    test = inputs.rdd.flatMap(extract_in).toDF([\"src\",\"dst\"])#.collect()#\n",
    "    test.write.save(\"/media/ssd2/bitcoinRemy/co_spending_\"+str(year)+\"_\"+str(month))\n",
    "    CC_direct(test,output_file)\n",
    "def CC_direct(df,output_file):\n",
    "    print(\"computing CC\")\n",
    "\n",
    "\n",
    "    edgesDf=df.distinct()\n",
    "    verticesDf=edgesDf \\\n",
    "     .select(\"src\") \\\n",
    "     .union(edgesDf.select(\"dst\")) \\\n",
    "     .distinct() \\\n",
    "     .withColumnRenamed('src', 'id')\n",
    "\n",
    "    graph=GraphFrame(verticesDf,edgesDf)\n",
    "    CC=graph.connectedComponents()#(\"graphx\")\n",
    "    CC.write.csv(output_file)\n",
    "computeCC(\"/media/ssd2/bitcoinRemy/CC_all\")"
   ]
  },
  {
   "cell_type": "code",
   "execution_count": 98,
   "metadata": {},
   "outputs": [],
   "source": [
    "search=spark.read.load(\"/media/ssd2/bitcoinRemy/to_2021/co_spending__/\")"
   ]
  },
  {
   "cell_type": "code",
   "execution_count": 99,
   "metadata": {},
   "outputs": [
    {
     "name": "stdout",
     "output_type": "stream",
     "text": [
      "+--------------------+--------------------+\n",
      "|                 src|                 dst|\n",
      "+--------------------+--------------------+\n",
      "|1JGK6a2XV6DGUtLqW...|1Q1a4nFf9d1dRBLhH...|\n",
      "|1Q1a4nFf9d1dRBLhH...|13PDuxTEQVcSzCV75...|\n",
      "|13PDuxTEQVcSzCV75...|1LeE9ZMREk55rRkzw...|\n",
      "|1LeE9ZMREk55rRkzw...|1E6tEeAfHBKxGDQog...|\n",
      "|1E6tEeAfHBKxGDQog...|1Q1a4nFf9d1dRBLhH...|\n",
      "|1Q1a4nFf9d1dRBLhH...|19DxwonooHC1uXDge...|\n",
      "|15ofj41FxqJhpnn6V...|1F22Br7NGp636QMMa...|\n",
      "|1F22Br7NGp636QMMa...|1F22Br7NGp636QMMa...|\n",
      "|1F22Br7NGp636QMMa...|1BM26fpYsdABP7LGP...|\n",
      "|1K3LBchJoaSXN1KCD...|1EiQKL3hGNCxqcikw...|\n",
      "|16uVJBEwgEcmVa37R...|1PM4gau767jm2KuFw...|\n",
      "|1PM4gau767jm2KuFw...|1Lfvy8T1kMu8knmu5...|\n",
      "|1Pg14Qgeg1bqri6yB...|186DWXvp9WYw6iyfm...|\n",
      "|186DWXvp9WYw6iyfm...|1EDFUxqD7s2moa4mW...|\n",
      "|1EDFUxqD7s2moa4mW...|1JFnopCRHNpTmUubs...|\n",
      "|13xxf6R1vh7Xmegy4...|12KwdDvjo7zg9N9uw...|\n",
      "|3Adq16vtCd2iMxkxp...|34G1ofv8EqwEQZ1pi...|\n",
      "|1A8QR2mmgeREMwn3Z...|1KUTADsb149Y1EPVb...|\n",
      "|1KUTADsb149Y1EPVb...|1GnoH1N2a25z4K9MA...|\n",
      "|1PtABw4TFM7HD8q5E...|1KchXsg8ojACuAx6o...|\n",
      "+--------------------+--------------------+\n",
      "only showing top 20 rows\n",
      "\n"
     ]
    }
   ],
   "source": [
    "search.show()"
   ]
  },
  {
   "cell_type": "code",
   "execution_count": 102,
   "metadata": {},
   "outputs": [
    {
     "name": "stdout",
     "output_type": "stream",
     "text": [
      "+---------------------------------+----------------------------------+\n",
      "|src                              |dst                               |\n",
      "+---------------------------------+----------------------------------+\n",
      "|1zVHpyQV6ALDyQQDd8JMtwGKifADQ7RLE|1FeDtFhARLxjKUPPkQqEBL78tisenc9znS|\n",
      "+---------------------------------+----------------------------------+\n",
      "\n"
     ]
    }
   ],
   "source": [
    "search.filter(search[\"src\"] == \"1zVHpyQV6ALDyQQDd8JMtwGKifADQ7RLE\").show(truncate=False)"
   ]
  },
  {
   "cell_type": "code",
   "execution_count": 104,
   "metadata": {},
   "outputs": [
    {
     "name": "stdout",
     "output_type": "stream",
     "text": [
      "+---------+----------------------------------+------+\n",
      "|key1     |ad                                |cl    |\n",
      "+---------+----------------------------------+------+\n",
      "|343534150|1FeDtFhARLxjKUPPkQqEBL78tisenc9znS|250059|\n",
      "|482592975|1zVHpyQV6ALDyQQDd8JMtwGKifADQ7RLE |null  |\n",
      "+---------+----------------------------------+------+\n",
      "\n"
     ]
    }
   ],
   "source": [
    "search=spark.read.load(\"/media/ssd2/bitcoinRemy/to_2021/ad2cl\")\n",
    "search.filter((col(\"ad\") == \"1zVHpyQV6ALDyQQDd8JMtwGKifADQ7RLE\") | (col(\"ad\") == \"1FeDtFhARLxjKUPPkQqEBL78tisenc9znS\")).show(truncate=False)\n"
   ]
  },
  {
   "cell_type": "code",
   "execution_count": 105,
   "metadata": {},
   "outputs": [
    {
     "name": "stdout",
     "output_type": "stream",
     "text": [
      "+---------+------+\n",
      "|id       |cl    |\n",
      "+---------+------+\n",
      "|343534150|250059|\n",
      "+---------+------+\n",
      "\n"
     ]
    }
   ],
   "source": [
    "search=spark.read.load(\"/media/ssd2/bitcoinRemy/to_2021/id2cl\")\n",
    "search.filter((col(\"id\") == \"482592975\") | (col(\"id\")== \"343534150\")).show(truncate=False)"
   ]
  },
  {
   "cell_type": "code",
   "execution_count": 110,
   "metadata": {},
   "outputs": [
    {
     "name": "stdout",
     "output_type": "stream",
     "text": [
      "+---------+---------+\n",
      "|id       |id2      |\n",
      "+---------+---------+\n",
      "|343534150|482592975|\n",
      "+---------+---------+\n",
      "\n"
     ]
    }
   ],
   "source": [
    "search=spark.read.load(\"/media/ssd2/bitcoinRemy/to_2021/co_spend_id/\")\n",
    "search.filter(col(\"id2\") == \"482592975\").show(truncate=False)"
   ]
  },
  {
   "cell_type": "code",
   "execution_count": 118,
   "metadata": {},
   "outputs": [
    {
     "name": "stdout",
     "output_type": "stream",
     "text": [
      "+---------+---------+\n",
      "|src      |dst      |\n",
      "+---------+---------+\n",
      "|482592975|343534150|\n",
      "+---------+---------+\n",
      "\n"
     ]
    }
   ],
   "source": [
    "search=spark.read.csv(\"/media/ssd2/bitcoinRemy/to_2021/co_spend_id.csv/\",sep=\" \").toDF(\"src\",\"dst\")\n",
    "search.filter(col(\"src\") == \"482592975\").show(truncate=False)"
   ]
  },
  {
   "cell_type": "code",
   "execution_count": 122,
   "metadata": {},
   "outputs": [
    {
     "name": "stdout",
     "output_type": "stream",
     "text": [
      "+---------+---+\n",
      "|      _c0|_c1|\n",
      "+---------+---+\n",
      "|160919439|  0|\n",
      "|276896091|  0|\n",
      "| 15863686|  0|\n",
      "|267230831|  0|\n",
      "| 59392913|  0|\n",
      "|421803123|  0|\n",
      "|359018837|  0|\n",
      "|354189328|  0|\n",
      "|173001544|  0|\n",
      "| 44884215|  0|\n",
      "|264818081|  0|\n",
      "|144002764|  0|\n",
      "|397657143|  0|\n",
      "|397657142|  0|\n",
      "| 88405918|  0|\n",
      "| 95908898|  0|\n",
      "| 86237741|  0|\n",
      "|226412158|  0|\n",
      "|143262864|  0|\n",
      "| 46028271|  0|\n",
      "+---------+---+\n",
      "only showing top 20 rows\n",
      "\n"
     ]
    }
   ],
   "source": [
    "search=spark.read.csv(\"/media/ssd2/bitcoinRemy/to_2021/id2cl.ssv\",sep=\"\\t\").show()\n",
    "#search.filter(col(\"_c0\") == \"482592975\").show(truncate=False)"
   ]
  },
  {
   "cell_type": "code",
   "execution_count": 121,
   "metadata": {},
   "outputs": [
    {
     "data": {
      "text/plain": [
       "483216194"
      ]
     },
     "execution_count": 121,
     "metadata": {},
     "output_type": "execute_result"
    }
   ],
   "source": [
    "search"
   ]
  },
  {
   "cell_type": "code",
   "execution_count": null,
   "metadata": {},
   "outputs": [],
   "source": [
    "pd.re"
   ]
  }
 ],
 "metadata": {
  "kernelspec": {
   "display_name": "Python 3",
   "language": "python",
   "name": "python3"
  },
  "language_info": {
   "codemirror_mode": {
    "name": "ipython",
    "version": 3
   },
   "file_extension": ".py",
   "mimetype": "text/x-python",
   "name": "python",
   "nbconvert_exporter": "python",
   "pygments_lexer": "ipython3",
   "version": "3.6.9"
  }
 },
 "nbformat": 4,
 "nbformat_minor": 2
}
