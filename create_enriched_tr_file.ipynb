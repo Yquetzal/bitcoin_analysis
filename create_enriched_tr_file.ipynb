{
 "cells": [
  {
   "cell_type": "code",
   "execution_count": 3,
   "metadata": {},
   "outputs": [],
   "source": []
  },
  {
   "cell_type": "code",
   "execution_count": 1,
   "metadata": {},
   "outputs": [],
   "source": [
    "import findspark\n",
    "findspark.init()\n",
    "\n",
    "import json\n",
    "import pyspark\n",
    "from pyspark.sql import SparkSession\n",
    "from pyspark.sql.functions import from_utc_timestamp, from_unixtime, to_date, sum,count, mean, countDistinct, round\n",
    "from pyspark import SparkContext\n",
    "from pyspark.sql.functions import year, month, dayofmonth\n",
    "from pyspark.sql.types import IntegerType,StructField,StructType, LongType, FloatType\n",
    "from pyspark.sql.functions import col, when\n",
    "\n",
    "from pyspark.sql.functions import monotonically_increasing_id, coalesce, date_trunc, regexp_extract\n",
    "import snap\n",
    "from os import path\n",
    "import glob\n",
    "\n",
    "import pandas as pd\n",
    "import seaborn as sns\n",
    "import matplotlib.pyplot as plt\n",
    "import numpy as np\n",
    "#from bitcoin_utils import bitcoin_utils\n",
    "\n",
    "\n",
    "\n",
    "#import bitcoin_utils"
   ]
  },
  {
   "cell_type": "code",
   "execution_count": null,
   "metadata": {},
   "outputs": [],
   "source": []
  },
  {
   "cell_type": "code",
   "execution_count": 2,
   "metadata": {},
   "outputs": [],
   "source": [
    "spark= SparkSession \\\n",
    "    .builder \\\n",
    "    .config(\"spark.driver.memory\", \"100g\") \\\n",
    "    .config(\"spark.executor.memory\", \"100g\") \\\n",
    "    .config(\"spark.cores.max\", \"10\") \\\n",
    "    .getOrCreate()"
   ]
  },
  {
   "cell_type": "code",
   "execution_count": null,
   "metadata": {},
   "outputs": [],
   "source": []
  },
  {
   "cell_type": "code",
   "execution_count": null,
   "metadata": {},
   "outputs": [],
   "source": []
  },
  {
   "cell_type": "code",
   "execution_count": 3,
   "metadata": {},
   "outputs": [],
   "source": [
    "#M = bitcoin_create_transaction_file(spark,sc)"
   ]
  },
  {
   "cell_type": "code",
   "execution_count": null,
   "metadata": {},
   "outputs": [],
   "source": []
  },
  {
   "cell_type": "code",
   "execution_count": 4,
   "metadata": {},
   "outputs": [],
   "source": [
    "import bitcoin_create_transaction_file"
   ]
  },
  {
   "cell_type": "code",
   "execution_count": 5,
   "metadata": {},
   "outputs": [],
   "source": [
    "M = bitcoin_create_transaction_file.bitcoin_create_transaction_file(spark)"
   ]
  },
  {
   "cell_type": "code",
   "execution_count": 11,
   "metadata": {},
   "outputs": [],
   "source": [
    "#M.createAd2Ad(\"/media/ssd2/bitcoinRemy/ad2ad\",year_min=2009,year_max=2009)\n",
    "####M.createAd2Ad(\"/media/ssd2/bitcoinRemy/ad2ad\")"
   ]
  },
  {
   "cell_type": "code",
   "execution_count": 5,
   "metadata": {},
   "outputs": [],
   "source": [
    "with_identity = M.append_identity(\"/media/ssd2/bitcoinRemy/ad2ad\",\n",
    "                  \"/media/ssd2/bitcoinRemy/to_end/ad2cl2identity/\")\n",
    "with_identity.write.mode(\"overwrite\").save(\"/media/ssd2/bitcoinRemy/tr_with_identity\")"
   ]
  },
  {
   "cell_type": "code",
   "execution_count": 7,
   "metadata": {},
   "outputs": [],
   "source": [
    "price_file = spark.read.csv(\"/media/ssd2/bitcoinRemy/btc_prices.csv\",sep=\",\",header=True)\\\n",
    "    .select([\"date\",\"PriceUSD\"])\\\n",
    "    .withColumn(\"PriceUSD\", col(\"PriceUSD\").cast(FloatType()))\n",
    "\n",
    "before = spark.read.load(\"/media/ssd2/bitcoinRemy/tr_with_identity\")#.select([\"time\",\"value\"])\n",
    "result = M.append_USD_value(before,price_file,\"PriceUSD\")\n",
    "               \n",
    "result.write.mode(\"overwrite\").save(\"/media/ssd2/bitcoinRemy/tr_with_prices\")"
   ]
  },
  {
   "cell_type": "code",
   "execution_count": 9,
   "metadata": {},
   "outputs": [],
   "source": [
    "!rm -R /media/ssd2/bitcoinRemy/tr_with_identity"
   ]
  },
  {
   "cell_type": "code",
   "execution_count": 9,
   "metadata": {},
   "outputs": [],
   "source": [
    "dataset = spark.read.load(\"/media/ed5/remyBitcoin/whole_dataset/\")#.filter(col(\"year\")<2010)\n",
    "to_write = M.create_spending_details(dataset)\n",
    "to_write.write.save(\"/media/ssd2/bitcoinRemy/spending_details\")"
   ]
  },
  {
   "cell_type": "code",
   "execution_count": null,
   "metadata": {},
   "outputs": [],
   "source": []
  },
  {
   "cell_type": "code",
   "execution_count": null,
   "metadata": {},
   "outputs": [],
   "source": []
  },
  {
   "cell_type": "code",
   "execution_count": 6,
   "metadata": {},
   "outputs": [],
   "source": [
    "#spark.read.load(\"/media/ssd2/bitcoinRemy/tr_with_prices\").select([\"hash\",\"value\",\"date\",\"output_id\"]).filter(year(\"date\")<2010).write.mode(\"overwrite\").save(\"/media/ssd2/bitcoinRemy/test\")\n",
    "\n",
    "pouet = M.append_spend_details(spark.read.load(\"/media/ssd2/bitcoinRemy/tr_with_prices\"),\n",
    "                      spark.read.load(\"/media/ssd2/bitcoinRemy/spending_details\"))\n",
    "pouet.write.save(\"/media/ssd2/bitcoinRemy/tr_with_spending_details\")"
   ]
  },
  {
   "cell_type": "code",
   "execution_count": 8,
   "metadata": {},
   "outputs": [],
   "source": [
    "!rm -R /media/ssd2/bitcoinRemy/tr_with_prices"
   ]
  },
  {
   "cell_type": "code",
   "execution_count": 6,
   "metadata": {},
   "outputs": [],
   "source": [
    "wecat=spark.read.csv(\"/media/ssd2/bitcoinRemy/walletExplorer_category.csv\",sep=\";\")\\\n",
    "    .withColumnRenamed(\"_c0\",\"name\").withColumnRenamed(\"_c1\",\"cat\")\n",
    "\n",
    "to_write = M.append_categories(spark.read.load(\"/media/ssd2/bitcoinRemy/tr_with_spending_details\"),wecat)\n",
    "                    \n",
    "to_write.write.save(\"/media/ssd2/bitcoinRemy/tr_with_everything\")    "
   ]
  },
  {
   "cell_type": "code",
   "execution_count": 13,
   "metadata": {},
   "outputs": [
    {
     "name": "stdout",
     "output_type": "stream",
     "text": [
      "+--------------------+---------+\n",
      "|                name|      cat|\n",
      "+--------------------+---------+\n",
      "|           Huobi.com|Exchanges|\n",
      "|         Bittrex.com|Exchanges|\n",
      "|        Poloniex.com|Exchanges|\n",
      "|            Luno.com|Exchanges|\n",
      "|           BTC-e.com|Exchanges|\n",
      "|          Kraken.com|Exchanges|\n",
      "|   LocalBitcoins.com|Exchanges|\n",
      "|        Bitstamp.net|Exchanges|\n",
      "|MercadoBitcoin.co...|Exchanges|\n",
      "|        BitZlato.com|Exchanges|\n",
      "|         Cryptsy.com|Exchanges|\n",
      "|          Bitcoin.de|Exchanges|\n",
      "|              Cex.io|Exchanges|\n",
      "|         Binance.com|Exchanges|\n",
      "|        BtcTrade.com|Exchanges|\n",
      "|           YoBit.net|Exchanges|\n",
      "|          OKCoin.com|Exchanges|\n",
      "|            BTCC.com|Exchanges|\n",
      "|            BX.in.th|Exchanges|\n",
      "|          HitBtc.com|Exchanges|\n",
      "+--------------------+---------+\n",
      "only showing top 20 rows\n",
      "\n"
     ]
    }
   ],
   "source": [
    "!rm -R /media/ssd2/bitcoinRemy/tr_with_spending_details"
   ]
  },
  {
   "cell_type": "code",
   "execution_count": 6,
   "metadata": {},
   "outputs": [],
   "source": [
    "M.write_temporally(spark.read.load(\"/media/ssd2/bitcoinRemy/tr_with_everything/\"),\"/media/ssd2/bitcoinRemy/tr_everything_by_day\")"
   ]
  },
  {
   "cell_type": "code",
   "execution_count": null,
   "metadata": {},
   "outputs": [],
   "source": []
  }
 ],
 "metadata": {
  "kernelspec": {
   "display_name": "Python 3",
   "language": "python",
   "name": "python3"
  },
  "language_info": {
   "codemirror_mode": {
    "name": "ipython",
    "version": 3
   },
   "file_extension": ".py",
   "mimetype": "text/x-python",
   "name": "python",
   "nbconvert_exporter": "python",
   "pygments_lexer": "ipython3",
   "version": "3.6.9"
  }
 },
 "nbformat": 4,
 "nbformat_minor": 2
}
