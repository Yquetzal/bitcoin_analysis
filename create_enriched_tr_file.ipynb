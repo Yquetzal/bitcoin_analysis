{
 "cells": [
  {
   "cell_type": "code",
   "execution_count": 3,
   "metadata": {},
   "outputs": [],
   "source": []
  },
  {
   "cell_type": "code",
   "execution_count": 1,
   "metadata": {},
   "outputs": [],
   "source": [
    "import findspark\n",
    "findspark.init()\n",
    "\n",
    "import json\n",
    "import pyspark\n",
    "from pyspark.sql import SparkSession\n",
    "from pyspark.sql.functions import from_utc_timestamp, from_unixtime, to_date, sum,count, mean, countDistinct, round\n",
    "from pyspark import SparkContext\n",
    "from pyspark.sql.functions import year, month, dayofmonth\n",
    "from pyspark.sql.types import IntegerType,StructField,StructType, LongType, FloatType\n",
    "from pyspark.sql.functions import col, when\n",
    "\n",
    "from pyspark.sql.functions import monotonically_increasing_id, coalesce, date_trunc, regexp_extract\n",
    "import snap\n",
    "from os import path\n",
    "import glob\n",
    "\n",
    "import pandas as pd\n",
    "import seaborn as sns\n",
    "import matplotlib.pyplot as plt\n",
    "import numpy as np\n",
    "#from bitcoin_utils import bitcoin_utils\n",
    "\n",
    "\n",
    "\n",
    "#import bitcoin_utils"
   ]
  },
  {
   "cell_type": "code",
   "execution_count": null,
   "metadata": {},
   "outputs": [],
   "source": []
  },
  {
   "cell_type": "code",
   "execution_count": 2,
   "metadata": {},
   "outputs": [],
   "source": [
    "spark= SparkSession \\\n",
    "    .builder \\\n",
    "    .config(\"spark.driver.memory\", \"100g\") \\\n",
    "    .config(\"spark.executor.memory\", \"100g\") \\\n",
    "    .config(\"spark.cores.max\", \"10\") \\\n",
    "    .getOrCreate()"
   ]
  },
  {
   "cell_type": "code",
   "execution_count": null,
   "metadata": {},
   "outputs": [],
   "source": []
  },
  {
   "cell_type": "code",
   "execution_count": 8,
   "metadata": {},
   "outputs": [
    {
     "name": "stdout",
     "output_type": "stream",
     "text": [
      "+----------------------------------------------------------------+------+----------+---+------+-------------------------------------------------------------------------------------------------------------------------------------------------------------------------------------------------------------------------------------------------------------------+----------+----+-----+---+\n",
      "|hash                                                            |bloc  |timestamp |fee|inputs|outputs                                                                                                                                                                                                                                                            |date      |year|month|day|\n",
      "+----------------------------------------------------------------+------+----------+---+------+-------------------------------------------------------------------------------------------------------------------------------------------------------------------------------------------------------------------------------------------------------------------+----------+----+-----+---+\n",
      "|0b5014c1b7abe46cc549c359e0681b21a51f536ab50e09f8d827615905f6358a|659718|1606969635|0  |[]    |[[0, [\"3NGcy8R16FSRM6CZ2PBBdNTrUzdbzWQxsk\"], 657304334], [1, [\"nonstandardfe9191d1a18043761f3396fac31266bdd0e8e47b\"], 0], [2, [\"nonstandardccb0315efab6f19506aad563da8426850a810ccb\"], 0], [3, [\"nonstandard5a25127330cfea45605f6ca81a469d3642d3cbfa\"], 0]]        |2020-12-03|2020|12   |3  |\n",
      "|3ae02752c27a493fe05341bca7503085d9726862e76ed8d65f039838fc48a59c|659719|1606970786|0  |[]    |[[0, [\"1KFHE7w8BhaENAswwryaoccDb6qcT6DbYY\"], 704157459], [1, [\"nonstandardb11edc193285a5c6dfb0ffe13207b57e0d01de0c\"], 0], [2, [\"nonstandard0496d3e34cca591aa6d3cb68df67400debdc7864\"], 0], [3, [\"nonstandard2f6ddb0e6ac9467658f285071b5cf767da56f278\"], 0]]        |2020-12-03|2020|12   |3  |\n",
      "|5b0ac0b6f88954dd31eb0cfa2b74b7893a53aaedfcd2713aa7743de7d5c02b4c|659720|1606970937|0  |[]    |[[0, [\"1KFHE7w8BhaENAswwryaoccDb6qcT6DbYY\"], 647521927], [1, [\"nonstandard48dd65c17a8bc82159e309e6185e34280c4d9129\"], 0], [2, [\"nonstandard13c2b6d41d762d36abbbedf1d2dd2f6567d0b0db\"], 0], [3, [\"nonstandard41c126d7d33b7f36e7db384edb3724e3dc21f7ba\"], 0]]        |2020-12-03|2020|12   |3  |\n",
      "|35f5c37523e63445e1714bfb6c33e8b1ca971514d7bb996571ee3698aaf4c754|659721|1606971393|0  |[]    |[[0, [\"bc1qx9t2l3pyny2spqpqlye8svce70nppwtaxwdrp4\"], 664295753], [1, [\"nonstandard43a14d72348a4e8de51b9f8cd5bfae68cbab7b8c\"], 0], [2, [\"nonstandard4e311a99fa3c1750ff3e4f0557df2c3a0acdaf63\"], 0], [3, [\"nonstandard5dcded101e9d380cdf18a89874491cbdae161572\"], 0]]|2020-12-03|2020|12   |3  |\n",
      "|ca4e04e987d77c59b8a8d2f40a8952d6cba2bd1fd49be2c13691738e02dbf84d|659722|1606971656|0  |[]    |[[0, [\"bc1qjl8uwezzlech723lpnyuza0h2cdkvxvh54v3dn\"], 652855228], [1, [\"nonstandarda0c6e63ccc616163015fc088917b17d540f77bd8\"], 0], [2, [\"nonstandarddff8f6f6751b3a867763fdfa734914930631f13a\"], 0], [3, [\"nonstandard428365cb17ea2f96eef4f0879a4e9e28845c9ca7\"], 0]]|2020-12-03|2020|12   |3  |\n",
      "|2e5a1ceb180959379cba08e352d245812dc64232ada05eeb133e21a4e706524d|659723|1606972382|0  |[]    |[[0, [\"34Jpa4Eu3ApoPVUKNTN2WeuXVVq1jzxgPi\"], 745215330], [1, [\"nonstandarda4f26c237333b3ddb93e4caea2f4f9112293b1b8\"], 0]]                                                                                                                                          |2020-12-03|2020|12   |3  |\n",
      "|b6d4e4aba673c669ec9ec5433b14c70c9fdb229cb6956710ee62fbcf028f5ab8|659724|1606975269|0  |[]    |[[0, [\"bc1qjl8uwezzlech723lpnyuza0h2cdkvxvh54v3dn\"], 758709802], [1, [\"nonstandard970cf85568a38645ca993c8e74131c9f9afb7cc6\"], 0]]                                                                                                                                  |2020-12-03|2020|12   |3  |\n",
      "|22ba7007e9da0f08ce755ce6d8d01bbb40927fcedd60549563ee0243da413a89|659725|1606976411|0  |[]    |[[0, [\"1DSh7vX6ed2cgTeKPwufV5i4hSi4pp373h\"], 754291580], [1, [\"nonstandard6c5e0cbb68e632668fd2526af6623ddd02c1940d\"], 0], [2, [\"nonstandardc0ae04b4de89f807b87bb7143b1c3a073c8ea1c7\"], 0]]                                                                         |2020-12-03|2020|12   |3  |\n",
      "|dad4034b646c370f7d29f39b7aeec23cce2ad1c44ebd421bd5fcc3e3629751fe|659726|1606977636|0  |[]    |[[0, [\"34Jpa4Eu3ApoPVUKNTN2WeuXVVq1jzxgPi\"], 762956970], [1, [\"nonstandard590e5c4315ff5237776181bb24d61771d601df89\"], 0]]                                                                                                                                          |2020-12-03|2020|12   |3  |\n",
      "|e0b19e887f37b3665a1d56f9080c919e7deb9b313a72d9de631772b0de58d47b|659727|1606980800|0  |[]    |[[0, [\"12dRugNcdxK39288NjcDV4GX7rMsKCGn6B\"], 784422834], [1, [\"nonstandardfc914b8e4cea2710c9f5ac17af276ca651103bd5\"], 0], [2, [\"nonstandardeca21566d713d278e5aa40558ae0a3b24d31722b\"], 0], [3, [\"nonstandardd25a88b1cb58cb6c5e91b1b57e9717954963f4c3\"], 0]]        |2020-12-03|2020|12   |3  |\n",
      "|222f0fcecc7404f01cb94162bc3c05cbc3bbd54cef8b5af370ae6db921f2d575|659728|1606982234|0  |[]    |[[0, [\"18cBEMRxXHqzWWCxZNtU91F5sbUNKhL5PX\"], 764522304], [1, [\"nonstandard2029b9dd9ba3bf7177401c062b6bba6bc637c795\"], 0], [2, [\"nonstandardf74e46fcb9b1a57a62ccfa3c027655cc252809c1\"], 0], [3, [\"nonstandard341939ff1acdd581d74e545891fb4783a4857994\"], 0]]        |2020-12-03|2020|12   |3  |\n",
      "|f441fbc784fa65384c9612999c34a1161ca6bd0fa97c9f42e830f7ab6c0a8e61|659729|1606982452|0  |[]    |[[0, [\"18cBEMRxXHqzWWCxZNtU91F5sbUNKhL5PX\"], 770422186], [1, [\"nonstandard182c69756e85cf4d2357fe8b4785411743038bec\"], 0], [2, [\"nonstandardc9930ae76063b152860c0d9105863c88eb0c8b74\"], 0], [3, [\"nonstandardc0c0bc1c671f595de62ad7ab34ef2918243363a1\"], 0]]        |2020-12-03|2020|12   |3  |\n",
      "|8b49850b051b0728642a6c1d8760ed0373681c5a6f7f4ac8347930fe77a97823|659730|1606982710|0  |[]    |[[0, [\"147SwRQdpCfj5p8PnfsXV2SsVVpVcz3aPq\"], 767459545], [1, [\"nonstandard1fb391950c7b9fe90074054b114c3cab4f81bc88\"], 0]]                                                                                                                                          |2020-12-03|2020|12   |3  |\n",
      "|3512f727bd689a0cc16cfa31613fb2bbbd312558040a6a845184b133cb3d581b|659731|1606982881|0  |[]    |[[0, [\"3F9VZy8bnN7c8SyCsJVjMAdcn3stt1AaEc\"], 757070981], [1, [\"nonstandarda468caff073053f4589e5976a586deb45e8cb9ba\"], 0], [2, [\"nonstandardfcade6cf822b27805b90ed0cb766b587bbc2e28d\"], 0], [3, [\"nonstandard7229e5f182e35bc92faff4c30ae71b440604df0d\"], 0]]        |2020-12-03|2020|12   |3  |\n",
      "|863fd0053422f3fece307be82cd17fa95111e48d0426c869778a527162f67dee|659732|1606983622|0  |[]    |[[0, [\"bc1qjl8uwezzlech723lpnyuza0h2cdkvxvh54v3dn\"], 764310482], [1, [\"nonstandardeff8cde90dcd84a34ca5891349f8e9a8114088cf\"], 0], [2, [\"nonstandard1051c91e2d219eeb512c090093b0248086ddb877\"], 0], [3, [\"nonstandard7cd1fbb7a8662dcee2a5d51b4d2ed15e86750536\"], 0]]|2020-12-03|2020|12   |3  |\n",
      "|81451775834e219f0d73688fa7e6cf2906c8415f79aad11cf8bd10f4ca771b4d|659734|1606984537|0  |[]    |[[0, [\"3NGcy8R16FSRM6CZ2PBBdNTrUzdbzWQxsk\"], 753526950], [1, [\"nonstandard8933bf310f78ce5f1ab04f35c51ad9ae3df575ba\"], 0], [2, [\"nonstandarde8b57b366a4b24ecf2fc30d919881cae92e157b2\"], 0], [3, [\"nonstandard691fb5e61ad1ae7561cc3f2143fda62bfdd81d52\"], 0]]        |2020-12-03|2020|12   |3  |\n",
      "|f06445526806b61eff3bd7e1d44fb74f586246ed7b06e74b953a0687226bc67b|659733|1606984068|0  |[]    |[[0, [\"bc1qjl8uwezzlech723lpnyuza0h2cdkvxvh54v3dn\"], 752987332], [1, [\"nonstandardc6b3e16a044ac14044d974f753cbb31ac46970d3\"], 0], [2, [\"nonstandard58cc5507559f5bc57f24a6d2f1223a18c1887f68\"], 0], [3, [\"nonstandard272a413c6867afac54cd054158ee315770546ba0\"], 0]]|2020-12-03|2020|12   |3  |\n",
      "|03817783278760d4f521f762df038fd17a0d7b4fccd8ca319e57a1937858f543|659735|1606984994|0  |[]    |[[0, [\"1DSh7vX6ed2cgTeKPwufV5i4hSi4pp373h\"], 753383194], [1, [\"nonstandard69c06abbcc446ecb267186147afad2924c65866a\"], 0], [2, [\"nonstandard26c01f9c7bb4c614896c172e5be70b602d5fd856\"], 0]]                                                                         |2020-12-03|2020|12   |3  |\n",
      "|7f7d2f3bb5388d7f952910b1dc1d337727fcbd3921287f98f5b96841afb8c130|659736|1606985698|0  |[]    |[[0, [\"18Zcyxqna6h7Z7bRjhKvGpr8HSfieQWXqj\"], 760255688], [1, [\"nonstandard6f2a93eb849fc2f76ec4dbfff6b1ebb1be6d23c6\"], 0], [2, [\"nonstandard2cb40e322aff0acd73ecc12b3f1b72e187e34297\"], 0]]                                                                         |2020-12-03|2020|12   |3  |\n",
      "|dba9822b466ddaddd45d50a670ef7aea4bb8e7506996eb8508ee8e74016db487|659737|1606985762|0  |[]    |[[0, [\"18Zcyxqna6h7Z7bRjhKvGpr8HSfieQWXqj\"], 738250544], [1, [\"nonstandarda5fd7755bfe5960074a4ad6ed46c2556658c26c4\"], 0], [2, [\"nonstandard49a3af7105a1bf7054a9ee63cc84f3eb3c7fec0c\"], 0]]                                                                         |2020-12-03|2020|12   |3  |\n",
      "+----------------------------------------------------------------+------+----------+---+------+-------------------------------------------------------------------------------------------------------------------------------------------------------------------------------------------------------------------------------------------------------------------+----------+----+-----+---+\n",
      "only showing top 20 rows\n",
      "\n"
     ]
    }
   ],
   "source": [
    "spark.read.load(\"/media/ed5/remyBitcoin/whole_dataset/\").filter(col(\"inputs\")==\"[]\").show(truncate=False)"
   ]
  },
  {
   "cell_type": "code",
   "execution_count": 3,
   "metadata": {},
   "outputs": [],
   "source": [
    "#M = bitcoin_create_transaction_file(spark,sc)"
   ]
  },
  {
   "cell_type": "code",
   "execution_count": null,
   "metadata": {},
   "outputs": [],
   "source": []
  },
  {
   "cell_type": "code",
   "execution_count": 4,
   "metadata": {},
   "outputs": [],
   "source": [
    "import bitcoin_create_transaction_file"
   ]
  },
  {
   "cell_type": "code",
   "execution_count": 5,
   "metadata": {},
   "outputs": [],
   "source": [
    "M = bitcoin_create_transaction_file.bitcoin_create_transaction_file(spark)"
   ]
  },
  {
   "cell_type": "code",
   "execution_count": 11,
   "metadata": {},
   "outputs": [],
   "source": [
    "#M.createAd2Ad(\"/media/ssd2/bitcoinRemy/ad2ad\",year_min=2009,year_max=2009)\n",
    "####M.createAd2Ad(\"/media/ssd2/bitcoinRemy/ad2ad\")"
   ]
  },
  {
   "cell_type": "code",
   "execution_count": 5,
   "metadata": {},
   "outputs": [],
   "source": [
    "with_identity = M.append_identity(\"/media/ssd2/bitcoinRemy/ad2ad\",\n",
    "                  \"/media/ssd2/bitcoinRemy/to_end/ad2cl2identity/\")\n",
    "with_identity.write.mode(\"overwrite\").save(\"/media/ssd2/bitcoinRemy/tr_with_identity\")"
   ]
  },
  {
   "cell_type": "code",
   "execution_count": 7,
   "metadata": {},
   "outputs": [],
   "source": [
    "price_file = spark.read.csv(\"/media/ssd2/bitcoinRemy/btc_prices.csv\",sep=\",\",header=True)\\\n",
    "    .select([\"date\",\"PriceUSD\"])\\\n",
    "    .withColumn(\"PriceUSD\", col(\"PriceUSD\").cast(FloatType()))\n",
    "\n",
    "before = spark.read.load(\"/media/ssd2/bitcoinRemy/tr_with_identity\")#.select([\"time\",\"value\"])\n",
    "result = M.append_USD_value(before,price_file,\"PriceUSD\")\n",
    "               \n",
    "result.write.mode(\"overwrite\").save(\"/media/ssd2/bitcoinRemy/tr_with_prices\")"
   ]
  },
  {
   "cell_type": "code",
   "execution_count": 9,
   "metadata": {},
   "outputs": [],
   "source": [
    "!rm -R /media/ssd2/bitcoinRemy/tr_with_identity"
   ]
  },
  {
   "cell_type": "code",
   "execution_count": 9,
   "metadata": {},
   "outputs": [],
   "source": [
    "dataset = spark.read.load(\"/media/ed5/remyBitcoin/whole_dataset/\")#.filter(col(\"year\")<2010)\n",
    "to_write = M.create_spending_details(dataset)\n",
    "to_write.write.save(\"/media/ssd2/bitcoinRemy/spending_details\")"
   ]
  },
  {
   "cell_type": "code",
   "execution_count": null,
   "metadata": {},
   "outputs": [],
   "source": []
  },
  {
   "cell_type": "code",
   "execution_count": null,
   "metadata": {},
   "outputs": [],
   "source": []
  },
  {
   "cell_type": "code",
   "execution_count": 6,
   "metadata": {},
   "outputs": [],
   "source": [
    "#spark.read.load(\"/media/ssd2/bitcoinRemy/tr_with_prices\").select([\"hash\",\"value\",\"date\",\"output_id\"]).filter(year(\"date\")<2010).write.mode(\"overwrite\").save(\"/media/ssd2/bitcoinRemy/test\")\n",
    "\n",
    "pouet = M.append_spend_details(spark.read.load(\"/media/ssd2/bitcoinRemy/tr_with_prices\"),\n",
    "                      spark.read.load(\"/media/ssd2/bitcoinRemy/spending_details\"))\n",
    "pouet.write.save(\"/media/ssd2/bitcoinRemy/tr_with_spending_details\")"
   ]
  },
  {
   "cell_type": "code",
   "execution_count": 8,
   "metadata": {},
   "outputs": [],
   "source": [
    "!rm -R /media/ssd2/bitcoinRemy/tr_with_prices"
   ]
  },
  {
   "cell_type": "code",
   "execution_count": 6,
   "metadata": {},
   "outputs": [],
   "source": [
    "wecat=spark.read.csv(\"/media/ssd2/bitcoinRemy/walletExplorer_category.csv\",sep=\";\")\\\n",
    "    .withColumnRenamed(\"_c0\",\"name\").withColumnRenamed(\"_c1\",\"cat\")\n",
    "\n",
    "to_write = M.append_categories(spark.read.load(\"/media/ssd2/bitcoinRemy/tr_with_spending_details\"),wecat)\n",
    "                    \n",
    "to_write.write.save(\"/media/ssd2/bitcoinRemy/tr_with_everything\")    "
   ]
  },
  {
   "cell_type": "code",
   "execution_count": 13,
   "metadata": {},
   "outputs": [
    {
     "name": "stdout",
     "output_type": "stream",
     "text": [
      "+--------------------+---------+\n",
      "|                name|      cat|\n",
      "+--------------------+---------+\n",
      "|           Huobi.com|Exchanges|\n",
      "|         Bittrex.com|Exchanges|\n",
      "|        Poloniex.com|Exchanges|\n",
      "|            Luno.com|Exchanges|\n",
      "|           BTC-e.com|Exchanges|\n",
      "|          Kraken.com|Exchanges|\n",
      "|   LocalBitcoins.com|Exchanges|\n",
      "|        Bitstamp.net|Exchanges|\n",
      "|MercadoBitcoin.co...|Exchanges|\n",
      "|        BitZlato.com|Exchanges|\n",
      "|         Cryptsy.com|Exchanges|\n",
      "|          Bitcoin.de|Exchanges|\n",
      "|              Cex.io|Exchanges|\n",
      "|         Binance.com|Exchanges|\n",
      "|        BtcTrade.com|Exchanges|\n",
      "|           YoBit.net|Exchanges|\n",
      "|          OKCoin.com|Exchanges|\n",
      "|            BTCC.com|Exchanges|\n",
      "|            BX.in.th|Exchanges|\n",
      "|          HitBtc.com|Exchanges|\n",
      "+--------------------+---------+\n",
      "only showing top 20 rows\n",
      "\n"
     ]
    }
   ],
   "source": [
    "!rm -R /media/ssd2/bitcoinRemy/tr_with_spending_details"
   ]
  },
  {
   "cell_type": "code",
   "execution_count": 6,
   "metadata": {},
   "outputs": [],
   "source": [
    "M.write_temporally(spark.read.load(\"/media/ssd2/bitcoinRemy/tr_with_everything/\"),\"/media/ssd2/bitcoinRemy/tr_everything_by_day\")"
   ]
  },
  {
   "cell_type": "code",
   "execution_count": 10,
   "metadata": {},
   "outputs": [
    {
     "name": "stdout",
     "output_type": "stream",
     "text": [
      "+--------------------+---------+------+--------------------+----------+----------+---------+----------+---+------------+-------------+--------+----------+---------------+--------------+-------------+-----+--------+-------+----+-----+---+\n",
      "|                hash|output_id|   src|                 dst|     value|      time|nb_inputs|nb_outputs|fee|src_identity| dst_identity|PriceUSD|  valueUSD|spent_timestamp|next_nb_inputs|        dst_2|src_2| dst_cat|src_cat|year|month|day|\n",
      "+--------------------+---------+------+--------------------+----------+----------+---------+----------+---+------------+-------------+--------+----------+---------------+--------------+-------------+-----+--------+-------+----+-----+---+\n",
      "|658a8a081c2ff4b96...|        1|mining|nonstandard32209a...|         0|1560973589|        0|         2|  0|        null|         null|9285.056|       0.0|           null|          null|         null| null|    null|   null|2019|    6| 19|\n",
      "|a9bd25ce05d7ed9c6...|        1|mining|nonstandard403b16...|         0|1560973283|        0|         2|  0|        null|         null|9285.056|       0.0|           null|          null|         null| null|    null|   null|2019|    6| 19|\n",
      "|3090b6bbc00371c5f...|        0|mining|129sqfPm5uKYH3a1W...|1264899367|1560967096|        0|         2|  0|        null|     73752473|9285.056| 117446.61|     1562262257|             9|     73752473| null|    null|   null|2019|    6| 19|\n",
      "|23c13975279204b5a...|        2|mining|nonstandard066e42...|         0|1560958301|        0|         4|  0|        null|         null|9285.056|       0.0|           null|          null|         null| null|    null|   null|2019|    6| 19|\n",
      "|7b4a2a227add1056d...|        1|mining|nonstandard058f10...|         0|1560906414|        0|         4|  0|        null|         null|9285.056|       0.0|           null|          null|         null| null|    null|   null|2019|    6| 19|\n",
      "|f2fab9bf5fc77eadb...|        1|mining|nonstandard2518fc...|         0|1560947229|        0|         2|  0|        null|         null|9285.056|       0.0|           null|          null|         null| null|    null|   null|2019|    6| 19|\n",
      "|80ca83a91f4343b1a...|        0|mining|bc1qjl8uwezzlech7...|1346584945|1560956115|        0|         3|  0|        null|     71764543|9285.056|125031.162|     1560996999|            37|     71764543| null|    null|   null|2019|    6| 19|\n",
      "|853772a10813e8ba4...|        0|mining|1KFHE7w8BhaENAsww...|1351129885|1560925189|        0|         4|  0|        null|    ePay.info|9285.056|125453.162|     1560990545|            23|    ePay.info| null|Services|   null|2019|    6| 19|\n",
      "|79275fc0119886c3b...|        0|mining|1CK6KHY6MHgYvmRQ4...|1311261666|1560916180|        0|         3|  0|        null|SlushPool.com|9285.056|121751.376|     1560974787|             1|SlushPool.com| null|   Pools|   null|2019|    6| 19|\n",
      "|924b97385886654fa...|        1|mining|nonstandard3bda23...|         0|1560978467|        0|         2|  0|        null|         null|9285.056|       0.0|           null|          null|         null| null|    null|   null|2019|    6| 19|\n",
      "|60c02ad3ce05cc6e5...|        0|mining|bc1qjl8uwezzlech7...|1250000000|1560946281|        0|         1|  0|        null|     71764543|9285.056|116063.196|     1560996999|            37|     71764543| null|    null|   null|2019|    6| 19|\n",
      "|6a78054a38724b34b...|        2|mining|nonstandardd1deff...|         0|1560938738|        0|         3|  0|        null|         null|9285.056|       0.0|           null|          null|         null| null|    null|   null|2019|    6| 19|\n",
      "|d6be51ec7d28614e7...|        0|mining|13hQVEstgo4iPQZv9...|1300334326|1560899233|        0|         2|  0|        null|   HaoBTC.com|9285.056|120736.766|     1560972368|             5|   HaoBTC.com| null|Services|   null|2019|    6| 19|\n",
      "|79275fc0119886c3b...|        1|mining|nonstandard82bc7b...|         0|1560916180|        0|         3|  0|        null|         null|9285.056|       0.0|           null|          null|         null| null|    null|   null|2019|    6| 19|\n",
      "|d7339c7ed73409a11...|        0|mining|1CK6KHY6MHgYvmRQ4...|1304501770|1560950497|        0|         3|  0|        null|SlushPool.com|9285.056|121123.715|     1560993025|             1|SlushPool.com| null|   Pools|   null|2019|    6| 19|\n",
      "|78ab67a41a2b93db9...|        0|mining|1EtpPfHV2rxUiybY6...|1325545182|1560923143|        0|         2|  0|        null|      4229771|9285.056|123077.608|     1561046362|             7|      4229771| null|    null|   null|2019|    6| 19|\n",
      "|341f380f86281a522...|        1|mining|nonstandard26019e...|         0|1560897337|        0|         3|  0|        null|         null|9285.056|       0.0|           null|          null|         null| null|    null|   null|2019|    6| 19|\n",
      "|e391edca5211ff6aa...|        1|mining|nonstandardc4c34b...|         0|1560929750|        0|         4|  0|        null|         null|9285.056|       0.0|           null|          null|         null| null|    null|   null|2019|    6| 19|\n",
      "|e5cb58b2cb46141e4...|        1|mining|nonstandardae79ae...|         0|1560935634|        0|         3|  0|        null|         null|9285.056|       0.0|           null|          null|         null| null|    null|   null|2019|    6| 19|\n",
      "|e9ac66ef39dfb991c...|        0|mining|1Cb4X74MUitDDCdkh...|1261879677|1560917262|        0|         2|  0|        null|       866471|9285.056| 117166.23|     1560970402|             1|       866471| null|    null|   null|2019|    6| 19|\n",
      "+--------------------+---------+------+--------------------+----------+----------+---------+----------+---+------------+-------------+--------+----------+---------------+--------------+-------------+-----+--------+-------+----+-----+---+\n",
      "only showing top 20 rows\n",
      "\n"
     ]
    }
   ],
   "source": [
    "spark.read.load(\"/media/ssd2/bitcoinRemy/tr_everything_by_day\").filter(col(\"src\")==\"mining\").show()"
   ]
  },
  {
   "cell_type": "code",
   "execution_count": null,
   "metadata": {},
   "outputs": [],
   "source": []
  }
 ],
 "metadata": {
  "kernelspec": {
   "display_name": "Python 3",
   "language": "python",
   "name": "python3"
  },
  "language_info": {
   "codemirror_mode": {
    "name": "ipython",
    "version": 3
   },
   "file_extension": ".py",
   "mimetype": "text/x-python",
   "name": "python",
   "nbconvert_exporter": "python",
   "pygments_lexer": "ipython3",
   "version": "3.6.9"
  }
 },
 "nbformat": 4,
 "nbformat_minor": 2
}
