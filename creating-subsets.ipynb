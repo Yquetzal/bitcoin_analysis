{
 "cells": [
  {
   "cell_type": "code",
   "execution_count": 1,
   "metadata": {},
   "outputs": [],
   "source": [
    "import findspark\n",
    "findspark.init()\n",
    "\n",
    "import json\n",
    "import pyspark\n",
    "from pyspark.sql import SparkSession\n",
    "from pyspark.sql.functions import from_utc_timestamp, from_unixtime, to_date, sum,count, mean, countDistinct, max,first\n",
    "from pyspark import SparkContext\n",
    "from pyspark.sql.functions import year, month, dayofmonth\n",
    "from pyspark.sql.types import IntegerType,StructField,StructType, LongType, FloatType\n",
    "from pyspark.sql.functions import col, when\n",
    "\n",
    "from pyspark.sql.functions import monotonically_increasing_id, coalesce, date_trunc, regexp_extract\n",
    "import snap\n",
    "from os import path\n",
    "import glob\n",
    "\n",
    "import pandas as pd\n",
    "%matplotlib inline\n",
    "import seaborn as sns\n",
    "import matplotlib.pyplot as plt\n",
    "from bitcoin_utils import bitcoin_utils\n",
    "import plotly\n",
    "import plotly.express as px\n",
    "pd.options.plotting.backend = \"plotly\"\n",
    "import plotly.io as pio\n",
    "\n"
   ]
  },
  {
   "cell_type": "code",
   "execution_count": 2,
   "metadata": {},
   "outputs": [],
   "source": [
    "spark = SparkSession \\\n",
    "    .builder \\\n",
    "    .config(\"spark.driver.memory\", \"100g\") \\\n",
    "    .config(\"spark.executor.memory\", \"100g\") \\\n",
    "    .config(\"spark.cores.max\", \"10\") \\\n",
    "    .getOrCreate()\n",
    "sc = spark.sparkContext"
   ]
  },
  {
   "cell_type": "code",
   "execution_count": 3,
   "metadata": {},
   "outputs": [],
   "source": [
    "data= spark.read.load(\"/media/ssd2/bitcoinRemy/tr_everything_by_day/\")"
   ]
  },
  {
   "cell_type": "code",
   "execution_count": 8,
   "metadata": {},
   "outputs": [
    {
     "data": {
      "text/plain": [
       "DataFrame[hash: string, output_id: bigint, src: string, dst: string, value: bigint, time: string, nb_inputs: bigint, nb_outputs: bigint, fee: bigint, src_identity: string, dst_identity: string, PriceUSD: float, valueUSD: double, spent_timestamp: string, next_nb_inputs: bigint, dst_2: string, src_2: string, dst_cat: string, src_cat: string, year: int, month: int, day: int]"
      ]
     },
     "execution_count": 8,
     "metadata": {},
     "output_type": "execute_result"
    }
   ],
   "source": [
    "data"
   ]
  },
  {
   "cell_type": "code",
   "execution_count": 21,
   "metadata": {},
   "outputs": [],
   "source": [
    "filtered = data.filter(col(\"year\")==2015).filter((col(\"month\")==1)).filter(\"src_identity is not null\").filter(\"dst_identity is not null\").select([\"src_identity\",\"dst_identity\",\"time\",\"value\"])"
   ]
  },
  {
   "cell_type": "code",
   "execution_count": 22,
   "metadata": {},
   "outputs": [],
   "source": [
    "pd_out = filtered.select(\"*\").toPandas()"
   ]
  },
  {
   "cell_type": "code",
   "execution_count": 25,
   "metadata": {},
   "outputs": [],
   "source": [
    "only_known=pd_out[(~pd_out[\"src_identity\"].astype(str).str.isnumeric())]"
   ]
  },
  {
   "cell_type": "code",
   "execution_count": 26,
   "metadata": {},
   "outputs": [
    {
     "name": "stderr",
     "output_type": "stream",
     "text": [
      "/usr/local/lib/python3.6/dist-packages/ipykernel_launcher.py:1: UserWarning:\n",
      "\n",
      "Boolean Series key will be reindexed to match DataFrame index.\n",
      "\n"
     ]
    }
   ],
   "source": [
    "only_known=only_known[(~pd_out[\"dst_identity\"].astype(str).str.isnumeric())]"
   ]
  },
  {
   "cell_type": "code",
   "execution_count": 32,
   "metadata": {},
   "outputs": [],
   "source": [
    "only_known = only_known[only_known[\"src_identity\"]!=only_known[\"dst_identity\"]]"
   ]
  },
  {
   "cell_type": "code",
   "execution_count": null,
   "metadata": {},
   "outputs": [],
   "source": [
    "only_known = only_known.sort_values(\"time\")"
   ]
  },
  {
   "cell_type": "code",
   "execution_count": 34,
   "metadata": {},
   "outputs": [],
   "source": [
    "only_known.sort_values(\"time\").to_csv(\"/media/ed5/remyBitcoin/2015-01-known.csv\")"
   ]
  },
  {
   "cell_type": "code",
   "execution_count": null,
   "metadata": {},
   "outputs": [],
   "source": []
  },
  {
   "cell_type": "code",
   "execution_count": null,
   "metadata": {},
   "outputs": [],
   "source": []
  }
 ],
 "metadata": {
  "kernelspec": {
   "display_name": "Python 3",
   "language": "python",
   "name": "python3"
  },
  "language_info": {
   "codemirror_mode": {
    "name": "ipython",
    "version": 3
   },
   "file_extension": ".py",
   "mimetype": "text/x-python",
   "name": "python",
   "nbconvert_exporter": "python",
   "pygments_lexer": "ipython3",
   "version": "3.6.9"
  }
 },
 "nbformat": 4,
 "nbformat_minor": 2
}
