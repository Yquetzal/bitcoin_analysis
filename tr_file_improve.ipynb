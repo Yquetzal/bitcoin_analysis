{
 "cells": [
  {
   "cell_type": "code",
   "execution_count": 1,
   "metadata": {},
   "outputs": [],
   "source": [
    "def add_prices():\n",
    "    prices= pd.read_csv(\"/media/ssd2/bitcoinRemy/btc.csv\")\n",
    "    prices['day'] = prices.to_datetime(prices['date'])\n",
    "    transactions_price=transactions.merge(prices[[\"PriceUSD\"]],on=\"day\",how=\"left\")"
   ]
  },
  {
   "cell_type": "code",
   "execution_count": null,
   "metadata": {},
   "outputs": [],
   "source": [
    "transactions = pd.read_csv(\"/media/ssd2/bitcoinRemy/tr_actor2actor.tsv\",sep=\"\\t\")"
   ]
  },
  {
   "cell_type": "code",
   "execution_count": null,
   "metadata": {},
   "outputs": [],
   "source": [
    "def improvev_values(transactions):\n",
    "    transactions[\"value\"]=transactions[\"value\"]/100000000\n",
    "    transactions[\"value_Dol\"]=transactions[\"PriceUSD\"]*transactions[\"value\"]"
   ]
  },
  {
   "cell_type": "code",
   "execution_count": null,
   "metadata": {},
   "outputs": [],
   "source": [
    "transactions.to_parquet(\"/media/ssd2/bitcoinRemy/tr_actor2actor.parquet\")"
   ]
  }
 ],
 "metadata": {
  "kernelspec": {
   "display_name": "Python 3",
   "language": "python",
   "name": "python3"
  },
  "language_info": {
   "codemirror_mode": {
    "name": "ipython",
    "version": 3
   },
   "file_extension": ".py",
   "mimetype": "text/x-python",
   "name": "python",
   "nbconvert_exporter": "python",
   "pygments_lexer": "ipython3",
   "version": "3.6.9"
  }
 },
 "nbformat": 4,
 "nbformat_minor": 2
}
